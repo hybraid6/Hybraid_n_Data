{
  "nbformat": 4,
  "nbformat_minor": 0,
  "metadata": {
    "colab": {
      "provenance": [],
      "authorship_tag": "ABX9TyMQY6R2TASgtYCsWBYfD5QT",
      "include_colab_link": true
    },
    "kernelspec": {
      "name": "python3",
      "display_name": "Python 3"
    },
    "language_info": {
      "name": "python"
    }
  },
  "cells": [
    {
      "cell_type": "markdown",
      "metadata": {
        "id": "view-in-github",
        "colab_type": "text"
      },
      "source": [
        "<a href=\"https://colab.research.google.com/github/hybraid6/Hybraid_n_Data/blob/main/ML01A_Introduction_to_Regression_in_Supervised_Machine_Learning_(with_Code_Walkthrough).ipynb\" target=\"_parent\"><img src=\"https://colab.research.google.com/assets/colab-badge.svg\" alt=\"Open In Colab\"/></a>"
      ]
    },
    {
      "cell_type": "markdown",
      "source": [
        "# Introduction to Regression in Supervised ML (with code walkthrough)"
      ],
      "metadata": {
        "id": "dBoL0Yw1Gmz8"
      }
    },
    {
      "cell_type": "markdown",
      "source": [
        "This is a beginner-friendly guide to **_regression_** in supervised machine learning. You’ll learn:\n",
        "\n",
        "- What regression is and how it differs from classification.\n",
        "- Examples of common regression algorithms.\n",
        "- A hands-on example: Predicting house prices using synthetic data."
      ],
      "metadata": {
        "id": "We5Kpq9nG43W"
      }
    },
    {
      "cell_type": "markdown",
      "source": [
        "### What is Machine Learning\n",
        "Machine Learning (ML) involves teaching or training a computer (or a model) to learn from examples (data) instead of giving it step-by-step instructions. It is a branch of artificial intelligence (AI) that employs statistical techniques to enable computer systems to learn patterns from data without explicit programming.\n",
        "It is broadly categorized into:\n",
        "- Supervised Learning: Training models using labelled datasets.\n",
        "- Unsupervised Learning: Finding hidden patterns in data without labels.\n",
        "- Reinforcement Learning: Learning through rewards and punishments."
      ],
      "metadata": {
        "id": "mWDHb-48IZCI"
      }
    },
    {
      "cell_type": "markdown",
      "source": [
        "### What is Supervised Machine Learning\n",
        "Supervised learning is a type of ML where models learn from labelled data, meaning each training example (each row) includes both input features and a known correct output. The data has a column known as the target variable or independent variable. There are two main types:\n",
        "- Regression: Predicting continuous values (e.g., predicting house prices).\n",
        "- Classification: Predicting discrete labels (e.g., predicting loan default status).\n"
      ],
      "metadata": {
        "id": "gS5XeSonInXG"
      }
    },
    {
      "cell_type": "markdown",
      "source": [
        "### What is Regression\n",
        "Regression is a type of supervised learning where the target variable is a number. It teaches the model how to predict a continuous value —how much time or how many people for instance.\n"
      ],
      "metadata": {
        "id": "tEMjyZkjJIDs"
      }
    },
    {
      "cell_type": "markdown",
      "source": [
        "### Examples of Regression Algorithms\n",
        "Some commonly used regression algorithms include:\n",
        "1. Linear Regression: Suitable for simple linear relationships.\n",
        "2. Polynomial Regression: An extension of linear regression, effective when data shows a curved relationship.\n",
        "3. Ridge and Lasso Regression: Regularized versions of linear regression to prevent overfitting.\n",
        "4. Decision Tree Regression: Uses a tree-like model to capture complex patterns.\n",
        "5. Random Forest Regression: An ensemble method that combines multiple decision trees.\n",
        "6. Support Vector Regression (SVR): Uses support vector machines for regression tasks.\n",
        "7. Gradient Boosting Machines (GBM): Includes XGBoost, LightGBM, and CatBoost, which are powerful for structured data."
      ],
      "metadata": {
        "id": "aaPeGOr0JPGt"
      }
    },
    {
      "cell_type": "markdown",
      "source": [
        "### Example Workflow in Machine Learning\n",
        "A typical machine learning workflow may include the following steps:\n",
        "1. Data Collection: Gather relevant data for training and testing.\n",
        "2. Data Preprocessing: Clean and prepare the data by handling missing values, scaling, and encoding categorical variables if needed.\n",
        "3. Feature Selection: Choose the most important features for better model performance.\n",
        "4. Model Selection and Training: Choose an appropriate regression algorithm and train the model using the training dataset.\n",
        "5. Model Evaluation: Assess performance using metrics like Mean Squared Error (MSE) and R-squared.\n",
        "6. Hyperparameter Tuning: Optimize the model for better accuracy.\n",
        "7. Deployment: Deploy the trained model for real-world predictions."
      ],
      "metadata": {
        "id": "cqpCRzb2JuN3"
      }
    },
    {
      "cell_type": "markdown",
      "source": [
        "## Code Walkthrough: Predicting House Prices With Machine Learning"
      ],
      "metadata": {
        "id": "TZueOxTDKC97"
      }
    },
    {
      "cell_type": "markdown",
      "source": [
        "### Step 1: Import the necessary libraries"
      ],
      "metadata": {
        "id": "D6PDvelXKPht"
      }
    },
    {
      "cell_type": "code",
      "source": [
        "import numpy as np  # For numerical operations\n",
        "import pandas as pd  # For data manipulation using DataFrames\n",
        "import matplotlib.pyplot as plt # For visualization\n",
        "\n",
        "# Import functions from scikit-learn for model building and evaluation\n",
        "from sklearn.model_selection import train_test_split  # To split the dataset into training and testing sets\n",
        "from sklearn.linear_model import LinearRegression  # To create and train a linear regression model\n",
        "from sklearn.metrics import mean_squared_error  # To evaluate the model using Mean Squared Error (MSE)\n",
        "from sklearn.metrics import r2_score  # To evaluate the model using R-squared (R²)"
      ],
      "metadata": {
        "id": "H55LTt1rK0Pe"
      },
      "execution_count": null,
      "outputs": []
    },
    {
      "cell_type": "markdown",
      "source": [
        "### Step 2: Generate a simple dataset\n",
        "\n",
        "At this point, you will typically have to import a dataset using `read_csv` but we'll just create a synthetic dataset for this example."
      ],
      "metadata": {
        "id": "16ETlT_PK7Fr"
      }
    },
    {
      "cell_type": "code",
      "source": [
        "# Set random seed for reproducibility\n",
        "np.random.seed(42)\n",
        "# By setting the seed with np.random.seed(42), you ensure that anyone running the code will get the same random numbers,\n",
        "# making your results reproducible.\n",
        "# The number 42 is often used as a default seed in examples. However, you can set the seed to any integer value.\n",
        "# The reason 42 is commonly chosen is not technical, but rather cultural.\n",
        "# It's a reference to the book \"The Hitchhiker's Guide to the Galaxy\" by Douglas Adams,\n",
        "# where 42 is humorously declared as the \"Answer to the Ultimate Question of Life, the Universe, and Everything.\"\n",
        "\n",
        "\n",
        "# Number of samples\n",
        "num_samples = 100\n",
        "\n",
        "\n",
        "# Generate synthetic data based on ranges and patterns from the original data\n",
        "sizes = np.random.randint(1400, 3000, num_samples)  # Random sizes between 1400 and 3000 sq ft\n",
        "bedrooms = np.random.choice([2, 3, 4, 5, 6], num_samples)  # Random number of bedrooms between 2 and 6\n",
        "\n",
        "# Generate prices based on a linear relationship with size and bedrooms, and add some noise\n",
        "base_price = 200000 + sizes * 100 + bedrooms * 50000\n",
        "prices = base_price + np.random.normal(0, 25000, num_samples)  # Add noise"
      ],
      "metadata": {
        "id": "spWy7_dBLoj7"
      },
      "execution_count": null,
      "outputs": []
    },
    {
      "cell_type": "code",
      "source": [
        "# Create DataFrame\n",
        "data = {\n",
        "    'Size (sq ft)': sizes,\n",
        "    'Bedrooms': bedrooms,\n",
        "    'Price ($)': prices.astype(int)  # Convert to integer\n",
        "}\n",
        "\n",
        "df = pd.DataFrame(data)\n",
        "\n",
        "# Display the first few rows of the generated data\n",
        "df.head()"
      ],
      "metadata": {
        "colab": {
          "base_uri": "https://localhost:8080/",
          "height": 206
        },
        "id": "MinVkobbLyKW",
        "outputId": "583f45d1-7150-4759-fe3b-31455fa22921"
      },
      "execution_count": null,
      "outputs": [
        {
          "output_type": "execute_result",
          "data": {
            "text/plain": [
              "   Size (sq ft)  Bedrooms  Price ($)\n",
              "0          2526         6     752212\n",
              "1          2859         6     785215\n",
              "2          2260         3     596446\n",
              "3          2694         6     743034\n",
              "4          2530         3     584041"
            ],
            "text/html": [
              "\n",
              "  <div id=\"df-5ceda281-5a62-4382-96ac-89999e7c364e\" class=\"colab-df-container\">\n",
              "    <div>\n",
              "<style scoped>\n",
              "    .dataframe tbody tr th:only-of-type {\n",
              "        vertical-align: middle;\n",
              "    }\n",
              "\n",
              "    .dataframe tbody tr th {\n",
              "        vertical-align: top;\n",
              "    }\n",
              "\n",
              "    .dataframe thead th {\n",
              "        text-align: right;\n",
              "    }\n",
              "</style>\n",
              "<table border=\"1\" class=\"dataframe\">\n",
              "  <thead>\n",
              "    <tr style=\"text-align: right;\">\n",
              "      <th></th>\n",
              "      <th>Size (sq ft)</th>\n",
              "      <th>Bedrooms</th>\n",
              "      <th>Price ($)</th>\n",
              "    </tr>\n",
              "  </thead>\n",
              "  <tbody>\n",
              "    <tr>\n",
              "      <th>0</th>\n",
              "      <td>2526</td>\n",
              "      <td>6</td>\n",
              "      <td>752212</td>\n",
              "    </tr>\n",
              "    <tr>\n",
              "      <th>1</th>\n",
              "      <td>2859</td>\n",
              "      <td>6</td>\n",
              "      <td>785215</td>\n",
              "    </tr>\n",
              "    <tr>\n",
              "      <th>2</th>\n",
              "      <td>2260</td>\n",
              "      <td>3</td>\n",
              "      <td>596446</td>\n",
              "    </tr>\n",
              "    <tr>\n",
              "      <th>3</th>\n",
              "      <td>2694</td>\n",
              "      <td>6</td>\n",
              "      <td>743034</td>\n",
              "    </tr>\n",
              "    <tr>\n",
              "      <th>4</th>\n",
              "      <td>2530</td>\n",
              "      <td>3</td>\n",
              "      <td>584041</td>\n",
              "    </tr>\n",
              "  </tbody>\n",
              "</table>\n",
              "</div>\n",
              "    <div class=\"colab-df-buttons\">\n",
              "\n",
              "  <div class=\"colab-df-container\">\n",
              "    <button class=\"colab-df-convert\" onclick=\"convertToInteractive('df-5ceda281-5a62-4382-96ac-89999e7c364e')\"\n",
              "            title=\"Convert this dataframe to an interactive table.\"\n",
              "            style=\"display:none;\">\n",
              "\n",
              "  <svg xmlns=\"http://www.w3.org/2000/svg\" height=\"24px\" viewBox=\"0 -960 960 960\">\n",
              "    <path d=\"M120-120v-720h720v720H120Zm60-500h600v-160H180v160Zm220 220h160v-160H400v160Zm0 220h160v-160H400v160ZM180-400h160v-160H180v160Zm440 0h160v-160H620v160ZM180-180h160v-160H180v160Zm440 0h160v-160H620v160Z\"/>\n",
              "  </svg>\n",
              "    </button>\n",
              "\n",
              "  <style>\n",
              "    .colab-df-container {\n",
              "      display:flex;\n",
              "      gap: 12px;\n",
              "    }\n",
              "\n",
              "    .colab-df-convert {\n",
              "      background-color: #E8F0FE;\n",
              "      border: none;\n",
              "      border-radius: 50%;\n",
              "      cursor: pointer;\n",
              "      display: none;\n",
              "      fill: #1967D2;\n",
              "      height: 32px;\n",
              "      padding: 0 0 0 0;\n",
              "      width: 32px;\n",
              "    }\n",
              "\n",
              "    .colab-df-convert:hover {\n",
              "      background-color: #E2EBFA;\n",
              "      box-shadow: 0px 1px 2px rgba(60, 64, 67, 0.3), 0px 1px 3px 1px rgba(60, 64, 67, 0.15);\n",
              "      fill: #174EA6;\n",
              "    }\n",
              "\n",
              "    .colab-df-buttons div {\n",
              "      margin-bottom: 4px;\n",
              "    }\n",
              "\n",
              "    [theme=dark] .colab-df-convert {\n",
              "      background-color: #3B4455;\n",
              "      fill: #D2E3FC;\n",
              "    }\n",
              "\n",
              "    [theme=dark] .colab-df-convert:hover {\n",
              "      background-color: #434B5C;\n",
              "      box-shadow: 0px 1px 3px 1px rgba(0, 0, 0, 0.15);\n",
              "      filter: drop-shadow(0px 1px 2px rgba(0, 0, 0, 0.3));\n",
              "      fill: #FFFFFF;\n",
              "    }\n",
              "  </style>\n",
              "\n",
              "    <script>\n",
              "      const buttonEl =\n",
              "        document.querySelector('#df-5ceda281-5a62-4382-96ac-89999e7c364e button.colab-df-convert');\n",
              "      buttonEl.style.display =\n",
              "        google.colab.kernel.accessAllowed ? 'block' : 'none';\n",
              "\n",
              "      async function convertToInteractive(key) {\n",
              "        const element = document.querySelector('#df-5ceda281-5a62-4382-96ac-89999e7c364e');\n",
              "        const dataTable =\n",
              "          await google.colab.kernel.invokeFunction('convertToInteractive',\n",
              "                                                    [key], {});\n",
              "        if (!dataTable) return;\n",
              "\n",
              "        const docLinkHtml = 'Like what you see? Visit the ' +\n",
              "          '<a target=\"_blank\" href=https://colab.research.google.com/notebooks/data_table.ipynb>data table notebook</a>'\n",
              "          + ' to learn more about interactive tables.';\n",
              "        element.innerHTML = '';\n",
              "        dataTable['output_type'] = 'display_data';\n",
              "        await google.colab.output.renderOutput(dataTable, element);\n",
              "        const docLink = document.createElement('div');\n",
              "        docLink.innerHTML = docLinkHtml;\n",
              "        element.appendChild(docLink);\n",
              "      }\n",
              "    </script>\n",
              "  </div>\n",
              "\n",
              "\n",
              "<div id=\"df-8cbf73d2-cd90-4f9f-9c03-6d93e6581f85\">\n",
              "  <button class=\"colab-df-quickchart\" onclick=\"quickchart('df-8cbf73d2-cd90-4f9f-9c03-6d93e6581f85')\"\n",
              "            title=\"Suggest charts\"\n",
              "            style=\"display:none;\">\n",
              "\n",
              "<svg xmlns=\"http://www.w3.org/2000/svg\" height=\"24px\"viewBox=\"0 0 24 24\"\n",
              "     width=\"24px\">\n",
              "    <g>\n",
              "        <path d=\"M19 3H5c-1.1 0-2 .9-2 2v14c0 1.1.9 2 2 2h14c1.1 0 2-.9 2-2V5c0-1.1-.9-2-2-2zM9 17H7v-7h2v7zm4 0h-2V7h2v10zm4 0h-2v-4h2v4z\"/>\n",
              "    </g>\n",
              "</svg>\n",
              "  </button>\n",
              "\n",
              "<style>\n",
              "  .colab-df-quickchart {\n",
              "      --bg-color: #E8F0FE;\n",
              "      --fill-color: #1967D2;\n",
              "      --hover-bg-color: #E2EBFA;\n",
              "      --hover-fill-color: #174EA6;\n",
              "      --disabled-fill-color: #AAA;\n",
              "      --disabled-bg-color: #DDD;\n",
              "  }\n",
              "\n",
              "  [theme=dark] .colab-df-quickchart {\n",
              "      --bg-color: #3B4455;\n",
              "      --fill-color: #D2E3FC;\n",
              "      --hover-bg-color: #434B5C;\n",
              "      --hover-fill-color: #FFFFFF;\n",
              "      --disabled-bg-color: #3B4455;\n",
              "      --disabled-fill-color: #666;\n",
              "  }\n",
              "\n",
              "  .colab-df-quickchart {\n",
              "    background-color: var(--bg-color);\n",
              "    border: none;\n",
              "    border-radius: 50%;\n",
              "    cursor: pointer;\n",
              "    display: none;\n",
              "    fill: var(--fill-color);\n",
              "    height: 32px;\n",
              "    padding: 0;\n",
              "    width: 32px;\n",
              "  }\n",
              "\n",
              "  .colab-df-quickchart:hover {\n",
              "    background-color: var(--hover-bg-color);\n",
              "    box-shadow: 0 1px 2px rgba(60, 64, 67, 0.3), 0 1px 3px 1px rgba(60, 64, 67, 0.15);\n",
              "    fill: var(--button-hover-fill-color);\n",
              "  }\n",
              "\n",
              "  .colab-df-quickchart-complete:disabled,\n",
              "  .colab-df-quickchart-complete:disabled:hover {\n",
              "    background-color: var(--disabled-bg-color);\n",
              "    fill: var(--disabled-fill-color);\n",
              "    box-shadow: none;\n",
              "  }\n",
              "\n",
              "  .colab-df-spinner {\n",
              "    border: 2px solid var(--fill-color);\n",
              "    border-color: transparent;\n",
              "    border-bottom-color: var(--fill-color);\n",
              "    animation:\n",
              "      spin 1s steps(1) infinite;\n",
              "  }\n",
              "\n",
              "  @keyframes spin {\n",
              "    0% {\n",
              "      border-color: transparent;\n",
              "      border-bottom-color: var(--fill-color);\n",
              "      border-left-color: var(--fill-color);\n",
              "    }\n",
              "    20% {\n",
              "      border-color: transparent;\n",
              "      border-left-color: var(--fill-color);\n",
              "      border-top-color: var(--fill-color);\n",
              "    }\n",
              "    30% {\n",
              "      border-color: transparent;\n",
              "      border-left-color: var(--fill-color);\n",
              "      border-top-color: var(--fill-color);\n",
              "      border-right-color: var(--fill-color);\n",
              "    }\n",
              "    40% {\n",
              "      border-color: transparent;\n",
              "      border-right-color: var(--fill-color);\n",
              "      border-top-color: var(--fill-color);\n",
              "    }\n",
              "    60% {\n",
              "      border-color: transparent;\n",
              "      border-right-color: var(--fill-color);\n",
              "    }\n",
              "    80% {\n",
              "      border-color: transparent;\n",
              "      border-right-color: var(--fill-color);\n",
              "      border-bottom-color: var(--fill-color);\n",
              "    }\n",
              "    90% {\n",
              "      border-color: transparent;\n",
              "      border-bottom-color: var(--fill-color);\n",
              "    }\n",
              "  }\n",
              "</style>\n",
              "\n",
              "  <script>\n",
              "    async function quickchart(key) {\n",
              "      const quickchartButtonEl =\n",
              "        document.querySelector('#' + key + ' button');\n",
              "      quickchartButtonEl.disabled = true;  // To prevent multiple clicks.\n",
              "      quickchartButtonEl.classList.add('colab-df-spinner');\n",
              "      try {\n",
              "        const charts = await google.colab.kernel.invokeFunction(\n",
              "            'suggestCharts', [key], {});\n",
              "      } catch (error) {\n",
              "        console.error('Error during call to suggestCharts:', error);\n",
              "      }\n",
              "      quickchartButtonEl.classList.remove('colab-df-spinner');\n",
              "      quickchartButtonEl.classList.add('colab-df-quickchart-complete');\n",
              "    }\n",
              "    (() => {\n",
              "      let quickchartButtonEl =\n",
              "        document.querySelector('#df-8cbf73d2-cd90-4f9f-9c03-6d93e6581f85 button');\n",
              "      quickchartButtonEl.style.display =\n",
              "        google.colab.kernel.accessAllowed ? 'block' : 'none';\n",
              "    })();\n",
              "  </script>\n",
              "</div>\n",
              "\n",
              "    </div>\n",
              "  </div>\n"
            ],
            "application/vnd.google.colaboratory.intrinsic+json": {
              "type": "dataframe",
              "variable_name": "df",
              "summary": "{\n  \"name\": \"df\",\n  \"rows\": 100,\n  \"fields\": [\n    {\n      \"column\": \"Size (sq ft)\",\n      \"properties\": {\n        \"dtype\": \"number\",\n        \"std\": 477,\n        \"min\": 1413,\n        \"max\": 2990,\n        \"num_unique_values\": 97,\n        \"samples\": [\n          2769,\n          2375,\n          2885\n        ],\n        \"semantic_type\": \"\",\n        \"description\": \"\"\n      }\n    },\n    {\n      \"column\": \"Bedrooms\",\n      \"properties\": {\n        \"dtype\": \"number\",\n        \"std\": 1,\n        \"min\": 2,\n        \"max\": 6,\n        \"num_unique_values\": 5,\n        \"samples\": [\n          3,\n          4,\n          2\n        ],\n        \"semantic_type\": \"\",\n        \"description\": \"\"\n      }\n    },\n    {\n      \"column\": \"Price ($)\",\n      \"properties\": {\n        \"dtype\": \"number\",\n        \"std\": 90160,\n        \"min\": 425773,\n        \"max\": 814844,\n        \"num_unique_values\": 100,\n        \"samples\": [\n          662758,\n          444644,\n          798252\n        ],\n        \"semantic_type\": \"\",\n        \"description\": \"\"\n      }\n    }\n  ]\n}"
            }
          },
          "metadata": {},
          "execution_count": 3
        }
      ]
    },
    {
      "cell_type": "markdown",
      "source": [
        "### Step 3 Exploratory Data Analysis (EDA)"
      ],
      "metadata": {
        "id": "mOcnMMp3L3fM"
      }
    },
    {
      "cell_type": "code",
      "source": [
        "# Let's use a scatterplot to see if there's a relationship between Price and House size\n",
        "\n",
        "plt.scatter(df['Size (sq ft)'], df['Price ($)'], alpha=0.6)\n",
        "#  `alpha` controls the transparency of the points in the scatter plot.\n",
        "plt.title(\"Price vs. House Size\")\n",
        "plt.xlabel(\"Size (sq ft)\")\n",
        "plt.ylabel(\"Price ($)\")\n",
        "plt.show()\n",
        "\n",
        "# Here we’ll see that Larger houses generally cost more (i.e. there’s a\n",
        "# positive correlation) %%"
      ],
      "metadata": {
        "colab": {
          "base_uri": "https://localhost:8080/",
          "height": 472
        },
        "id": "tVLzf0OaKzIw",
        "outputId": "d2501db7-2ef1-4b47-9f63-5ad37b6eb4fa"
      },
      "execution_count": null,
      "outputs": [
        {
          "output_type": "display_data",
          "data": {
            "text/plain": [
              "<Figure size 640x480 with 1 Axes>"
            ],
            "image/png": "[encoded data removed]"
          },
          "metadata": {}
        }
      ]
    },
    {
      "cell_type": "markdown",
      "source": [
        "Practice: Try Price vs. Bedrooms"
      ],
      "metadata": {
        "id": "E-m1RP-ycbOH"
      }
    },
    {
      "cell_type": "markdown",
      "source": [
        "### Step 4: Separate features and target variable"
      ],
      "metadata": {
        "id": "oNPPOdt9dnb1"
      }
    },
    {
      "cell_type": "code",
      "source": [
        "X = df[['Size (sq ft)', 'Bedrooms']]\n",
        "y = df['Price ($)']"
      ],
      "metadata": {
        "id": "PngYLgUKeMo1"
      },
      "execution_count": null,
      "outputs": []
    },
    {
      "cell_type": "markdown",
      "source": [
        "### Step 5: Split the data into training and testing sets"
      ],
      "metadata": {
        "id": "5Pkdp8loeNr1"
      }
    },
    {
      "cell_type": "code",
      "source": [
        "X_train, X_test, y_train, y_test = train_test_split(X, y, test_size=0.2, random_state=42)\n",
        "\n",
        "# X: Features (independent variables) in the dataset\n",
        "# y: Target (dependent variable) in the dataset\n",
        "\n",
        "# test_size=0.2: Specifies that 20% of the data should be used for the\n",
        "# test set, and the remaining 80% for the training set.\n",
        "\n",
        "# random_state=42: Ensures that the data is split in the same way every time\n",
        "# you run the code, providing reproducibility.\n",
        "# The number 42 is arbitrary and can be any integer.\n",
        "\n",
        "# X_train: Training data for the features\n",
        "# X_test: Testing data for the features\n",
        "\n",
        "# y_train: Training data for the target\n",
        "# y_test: Testing data for the target"
      ],
      "metadata": {
        "id": "8x1pxRmTejMF"
      },
      "execution_count": null,
      "outputs": []
    },
    {
      "cell_type": "markdown",
      "source": [
        "### Step 6: Choose and train the model"
      ],
      "metadata": {
        "id": "XFg60iBzf3u5"
      }
    },
    {
      "cell_type": "code",
      "source": [
        "model = LinearRegression()  # Initialize a Linear Regression model\n",
        "model.fit(X_train, y_train) # Train the model using the training data (X_train) and the corresponding target values (y_train)"
      ],
      "metadata": {
        "colab": {
          "base_uri": "https://localhost:8080/",
          "height": 80
        },
        "id": "kpnnLroif-lE",
        "outputId": "60b7aa2b-7abd-4f90-b55b-30472c662f41"
      },
      "execution_count": null,
      "outputs": [
        {
          "output_type": "execute_result",
          "data": {
            "text/plain": [
              "LinearRegression()"
            ],
            "text/html": [
              "<style>#sk-container-id-1 {\n",
              "  /* Definition of color scheme common for light and dark mode */\n",
              "  --sklearn-color-text: #000;\n",
              "  --sklearn-color-text-muted: #666;\n",
              "  --sklearn-color-line: gray;\n",
              "  /* Definition of color scheme for unfitted estimators */\n",
              "  --sklearn-color-unfitted-level-0: #fff5e6;\n",
              "  --sklearn-color-unfitted-level-1: #f6e4d2;\n",
              "  --sklearn-color-unfitted-level-2: #ffe0b3;\n",
              "  --sklearn-color-unfitted-level-3: chocolate;\n",
              "  /* Definition of color scheme for fitted estimators */\n",
              "  --sklearn-color-fitted-level-0: #f0f8ff;\n",
              "  --sklearn-color-fitted-level-1: #d4ebff;\n",
              "  --sklearn-color-fitted-level-2: #b3dbfd;\n",
              "  --sklearn-color-fitted-level-3: cornflowerblue;\n",
              "\n",
              "  /* Specific color for light theme */\n",
              "  --sklearn-color-text-on-default-background: var(--sg-text-color, var(--theme-code-foreground, var(--jp-content-font-color1, black)));\n",
              "  --sklearn-color-background: var(--sg-background-color, var(--theme-background, var(--jp-layout-color0, white)));\n",
              "  --sklearn-color-border-box: var(--sg-text-color, var(--theme-code-foreground, var(--jp-content-font-color1, black)));\n",
              "  --sklearn-color-icon: #696969;\n",
              "\n",
              "  @media (prefers-color-scheme: dark) {\n",
              "    /* Redefinition of color scheme for dark theme */\n",
              "    --sklearn-color-text-on-default-background: var(--sg-text-color, var(--theme-code-foreground, var(--jp-content-font-color1, white)));\n",
              "    --sklearn-color-background: var(--sg-background-color, var(--theme-background, var(--jp-layout-color0, #111)));\n",
              "    --sklearn-color-border-box: var(--sg-text-color, var(--theme-code-foreground, var(--jp-content-font-color1, white)));\n",
              "    --sklearn-color-icon: #878787;\n",
              "  }\n",
              "}\n",
              "\n",
              "#sk-container-id-1 {\n",
              "  color: var(--sklearn-color-text);\n",
              "}\n",
              "\n",
              "#sk-container-id-1 pre {\n",
              "  padding: 0;\n",
              "}\n",
              "\n",
              "#sk-container-id-1 input.sk-hidden--visually {\n",
              "  border: 0;\n",
              "  clip: rect(1px 1px 1px 1px);\n",
              "  clip: rect(1px, 1px, 1px, 1px);\n",
              "  height: 1px;\n",
              "  margin: -1px;\n",
              "  overflow: hidden;\n",
              "  padding: 0;\n",
              "  position: absolute;\n",
              "  width: 1px;\n",
              "}\n",
              "\n",
              "#sk-container-id-1 div.sk-dashed-wrapped {\n",
              "  border: 1px dashed var(--sklearn-color-line);\n",
              "  margin: 0 0.4em 0.5em 0.4em;\n",
              "  box-sizing: border-box;\n",
              "  padding-bottom: 0.4em;\n",
              "  background-color: var(--sklearn-color-background);\n",
              "}\n",
              "\n",
              "#sk-container-id-1 div.sk-container {\n",
              "  /* jupyter's `normalize.less` sets `[hidden] { display: none; }`\n",
              "     but bootstrap.min.css set `[hidden] { display: none !important; }`\n",
              "     so we also need the `!important` here to be able to override the\n",
              "     default hidden behavior on the sphinx rendered scikit-learn.org.\n",
              "     See: https://github.com/scikit-learn/scikit-learn/issues/21755 */\n",
              "  display: inline-block !important;\n",
              "  position: relative;\n",
              "}\n",
              "\n",
              "#sk-container-id-1 div.sk-text-repr-fallback {\n",
              "  display: none;\n",
              "}\n",
              "\n",
              "div.sk-parallel-item,\n",
              "div.sk-serial,\n",
              "div.sk-item {\n",
              "  /* draw centered vertical line to link estimators */\n",
              "  background-image: linear-gradient(var(--sklearn-color-text-on-default-background), var(--sklearn-color-text-on-default-background));\n",
              "  background-size: 2px 100%;\n",
              "  background-repeat: no-repeat;\n",
              "  background-position: center center;\n",
              "}\n",
              "\n",
              "/* Parallel-specific style estimator block */\n",
              "\n",
              "#sk-container-id-1 div.sk-parallel-item::after {\n",
              "  content: \"\";\n",
              "  width: 100%;\n",
              "  border-bottom: 2px solid var(--sklearn-color-text-on-default-background);\n",
              "  flex-grow: 1;\n",
              "}\n",
              "\n",
              "#sk-container-id-1 div.sk-parallel {\n",
              "  display: flex;\n",
              "  align-items: stretch;\n",
              "  justify-content: center;\n",
              "  background-color: var(--sklearn-color-background);\n",
              "  position: relative;\n",
              "}\n",
              "\n",
              "#sk-container-id-1 div.sk-parallel-item {\n",
              "  display: flex;\n",
              "  flex-direction: column;\n",
              "}\n",
              "\n",
              "#sk-container-id-1 div.sk-parallel-item:first-child::after {\n",
              "  align-self: flex-end;\n",
              "  width: 50%;\n",
              "}\n",
              "\n",
              "#sk-container-id-1 div.sk-parallel-item:last-child::after {\n",
              "  align-self: flex-start;\n",
              "  width: 50%;\n",
              "}\n",
              "\n",
              "#sk-container-id-1 div.sk-parallel-item:only-child::after {\n",
              "  width: 0;\n",
              "}\n",
              "\n",
              "/* Serial-specific style estimator block */\n",
              "\n",
              "#sk-container-id-1 div.sk-serial {\n",
              "  display: flex;\n",
              "  flex-direction: column;\n",
              "  align-items: center;\n",
              "  background-color: var(--sklearn-color-background);\n",
              "  padding-right: 1em;\n",
              "  padding-left: 1em;\n",
              "}\n",
              "\n",
              "\n",
              "/* Toggleable style: style used for estimator/Pipeline/ColumnTransformer box that is\n",
              "clickable and can be expanded/collapsed.\n",
              "- Pipeline and ColumnTransformer use this feature and define the default style\n",
              "- Estimators will overwrite some part of the style using the `sk-estimator` class\n",
              "*/\n",
              "\n",
              "/* Pipeline and ColumnTransformer style (default) */\n",
              "\n",
              "#sk-container-id-1 div.sk-toggleable {\n",
              "  /* Default theme specific background. It is overwritten whether we have a\n",
              "  specific estimator or a Pipeline/ColumnTransformer */\n",
              "  background-color: var(--sklearn-color-background);\n",
              "}\n",
              "\n",
              "/* Toggleable label */\n",
              "#sk-container-id-1 label.sk-toggleable__label {\n",
              "  cursor: pointer;\n",
              "  display: flex;\n",
              "  width: 100%;\n",
              "  margin-bottom: 0;\n",
              "  padding: 0.5em;\n",
              "  box-sizing: border-box;\n",
              "  text-align: center;\n",
              "  align-items: start;\n",
              "  justify-content: space-between;\n",
              "  gap: 0.5em;\n",
              "}\n",
              "\n",
              "#sk-container-id-1 label.sk-toggleable__label .caption {\n",
              "  font-size: 0.6rem;\n",
              "  font-weight: lighter;\n",
              "  color: var(--sklearn-color-text-muted);\n",
              "}\n",
              "\n",
              "#sk-container-id-1 label.sk-toggleable__label-arrow:before {\n",
              "  /* Arrow on the left of the label */\n",
              "  content: \"▸\";\n",
              "  float: left;\n",
              "  margin-right: 0.25em;\n",
              "  color: var(--sklearn-color-icon);\n",
              "}\n",
              "\n",
              "#sk-container-id-1 label.sk-toggleable__label-arrow:hover:before {\n",
              "  color: var(--sklearn-color-text);\n",
              "}\n",
              "\n",
              "/* Toggleable content - dropdown */\n",
              "\n",
              "#sk-container-id-1 div.sk-toggleable__content {\n",
              "  max-height: 0;\n",
              "  max-width: 0;\n",
              "  overflow: hidden;\n",
              "  text-align: left;\n",
              "  /* unfitted */\n",
              "  background-color: var(--sklearn-color-unfitted-level-0);\n",
              "}\n",
              "\n",
              "#sk-container-id-1 div.sk-toggleable__content.fitted {\n",
              "  /* fitted */\n",
              "  background-color: var(--sklearn-color-fitted-level-0);\n",
              "}\n",
              "\n",
              "#sk-container-id-1 div.sk-toggleable__content pre {\n",
              "  margin: 0.2em;\n",
              "  border-radius: 0.25em;\n",
              "  color: var(--sklearn-color-text);\n",
              "  /* unfitted */\n",
              "  background-color: var(--sklearn-color-unfitted-level-0);\n",
              "}\n",
              "\n",
              "#sk-container-id-1 div.sk-toggleable__content.fitted pre {\n",
              "  /* unfitted */\n",
              "  background-color: var(--sklearn-color-fitted-level-0);\n",
              "}\n",
              "\n",
              "#sk-container-id-1 input.sk-toggleable__control:checked~div.sk-toggleable__content {\n",
              "  /* Expand drop-down */\n",
              "  max-height: 200px;\n",
              "  max-width: 100%;\n",
              "  overflow: auto;\n",
              "}\n",
              "\n",
              "#sk-container-id-1 input.sk-toggleable__control:checked~label.sk-toggleable__label-arrow:before {\n",
              "  content: \"▾\";\n",
              "}\n",
              "\n",
              "/* Pipeline/ColumnTransformer-specific style */\n",
              "\n",
              "#sk-container-id-1 div.sk-label input.sk-toggleable__control:checked~label.sk-toggleable__label {\n",
              "  color: var(--sklearn-color-text);\n",
              "  background-color: var(--sklearn-color-unfitted-level-2);\n",
              "}\n",
              "\n",
              "#sk-container-id-1 div.sk-label.fitted input.sk-toggleable__control:checked~label.sk-toggleable__label {\n",
              "  background-color: var(--sklearn-color-fitted-level-2);\n",
              "}\n",
              "\n",
              "/* Estimator-specific style */\n",
              "\n",
              "/* Colorize estimator box */\n",
              "#sk-container-id-1 div.sk-estimator input.sk-toggleable__control:checked~label.sk-toggleable__label {\n",
              "  /* unfitted */\n",
              "  background-color: var(--sklearn-color-unfitted-level-2);\n",
              "}\n",
              "\n",
              "#sk-container-id-1 div.sk-estimator.fitted input.sk-toggleable__control:checked~label.sk-toggleable__label {\n",
              "  /* fitted */\n",
              "  background-color: var(--sklearn-color-fitted-level-2);\n",
              "}\n",
              "\n",
              "#sk-container-id-1 div.sk-label label.sk-toggleable__label,\n",
              "#sk-container-id-1 div.sk-label label {\n",
              "  /* The background is the default theme color */\n",
              "  color: var(--sklearn-color-text-on-default-background);\n",
              "}\n",
              "\n",
              "/* On hover, darken the color of the background */\n",
              "#sk-container-id-1 div.sk-label:hover label.sk-toggleable__label {\n",
              "  color: var(--sklearn-color-text);\n",
              "  background-color: var(--sklearn-color-unfitted-level-2);\n",
              "}\n",
              "\n",
              "/* Label box, darken color on hover, fitted */\n",
              "#sk-container-id-1 div.sk-label.fitted:hover label.sk-toggleable__label.fitted {\n",
              "  color: var(--sklearn-color-text);\n",
              "  background-color: var(--sklearn-color-fitted-level-2);\n",
              "}\n",
              "\n",
              "/* Estimator label */\n",
              "\n",
              "#sk-container-id-1 div.sk-label label {\n",
              "  font-family: monospace;\n",
              "  font-weight: bold;\n",
              "  display: inline-block;\n",
              "  line-height: 1.2em;\n",
              "}\n",
              "\n",
              "#sk-container-id-1 div.sk-label-container {\n",
              "  text-align: center;\n",
              "}\n",
              "\n",
              "/* Estimator-specific */\n",
              "#sk-container-id-1 div.sk-estimator {\n",
              "  font-family: monospace;\n",
              "  border: 1px dotted var(--sklearn-color-border-box);\n",
              "  border-radius: 0.25em;\n",
              "  box-sizing: border-box;\n",
              "  margin-bottom: 0.5em;\n",
              "  /* unfitted */\n",
              "  background-color: var(--sklearn-color-unfitted-level-0);\n",
              "}\n",
              "\n",
              "#sk-container-id-1 div.sk-estimator.fitted {\n",
              "  /* fitted */\n",
              "  background-color: var(--sklearn-color-fitted-level-0);\n",
              "}\n",
              "\n",
              "/* on hover */\n",
              "#sk-container-id-1 div.sk-estimator:hover {\n",
              "  /* unfitted */\n",
              "  background-color: var(--sklearn-color-unfitted-level-2);\n",
              "}\n",
              "\n",
              "#sk-container-id-1 div.sk-estimator.fitted:hover {\n",
              "  /* fitted */\n",
              "  background-color: var(--sklearn-color-fitted-level-2);\n",
              "}\n",
              "\n",
              "/* Specification for estimator info (e.g. \"i\" and \"?\") */\n",
              "\n",
              "/* Common style for \"i\" and \"?\" */\n",
              "\n",
              ".sk-estimator-doc-link,\n",
              "a:link.sk-estimator-doc-link,\n",
              "a:visited.sk-estimator-doc-link {\n",
              "  float: right;\n",
              "  font-size: smaller;\n",
              "  line-height: 1em;\n",
              "  font-family: monospace;\n",
              "  background-color: var(--sklearn-color-background);\n",
              "  border-radius: 1em;\n",
              "  height: 1em;\n",
              "  width: 1em;\n",
              "  text-decoration: none !important;\n",
              "  margin-left: 0.5em;\n",
              "  text-align: center;\n",
              "  /* unfitted */\n",
              "  border: var(--sklearn-color-unfitted-level-1) 1pt solid;\n",
              "  color: var(--sklearn-color-unfitted-level-1);\n",
              "}\n",
              "\n",
              ".sk-estimator-doc-link.fitted,\n",
              "a:link.sk-estimator-doc-link.fitted,\n",
              "a:visited.sk-estimator-doc-link.fitted {\n",
              "  /* fitted */\n",
              "  border: var(--sklearn-color-fitted-level-1) 1pt solid;\n",
              "  color: var(--sklearn-color-fitted-level-1);\n",
              "}\n",
              "\n",
              "/* On hover */\n",
              "div.sk-estimator:hover .sk-estimator-doc-link:hover,\n",
              ".sk-estimator-doc-link:hover,\n",
              "div.sk-label-container:hover .sk-estimator-doc-link:hover,\n",
              ".sk-estimator-doc-link:hover {\n",
              "  /* unfitted */\n",
              "  background-color: var(--sklearn-color-unfitted-level-3);\n",
              "  color: var(--sklearn-color-background);\n",
              "  text-decoration: none;\n",
              "}\n",
              "\n",
              "div.sk-estimator.fitted:hover .sk-estimator-doc-link.fitted:hover,\n",
              ".sk-estimator-doc-link.fitted:hover,\n",
              "div.sk-label-container:hover .sk-estimator-doc-link.fitted:hover,\n",
              ".sk-estimator-doc-link.fitted:hover {\n",
              "  /* fitted */\n",
              "  background-color: var(--sklearn-color-fitted-level-3);\n",
              "  color: var(--sklearn-color-background);\n",
              "  text-decoration: none;\n",
              "}\n",
              "\n",
              "/* Span, style for the box shown on hovering the info icon */\n",
              ".sk-estimator-doc-link span {\n",
              "  display: none;\n",
              "  z-index: 9999;\n",
              "  position: relative;\n",
              "  font-weight: normal;\n",
              "  right: .2ex;\n",
              "  padding: .5ex;\n",
              "  margin: .5ex;\n",
              "  width: min-content;\n",
              "  min-width: 20ex;\n",
              "  max-width: 50ex;\n",
              "  color: var(--sklearn-color-text);\n",
              "  box-shadow: 2pt 2pt 4pt #999;\n",
              "  /* unfitted */\n",
              "  background: var(--sklearn-color-unfitted-level-0);\n",
              "  border: .5pt solid var(--sklearn-color-unfitted-level-3);\n",
              "}\n",
              "\n",
              ".sk-estimator-doc-link.fitted span {\n",
              "  /* fitted */\n",
              "  background: var(--sklearn-color-fitted-level-0);\n",
              "  border: var(--sklearn-color-fitted-level-3);\n",
              "}\n",
              "\n",
              ".sk-estimator-doc-link:hover span {\n",
              "  display: block;\n",
              "}\n",
              "\n",
              "/* \"?\"-specific style due to the `<a>` HTML tag */\n",
              "\n",
              "#sk-container-id-1 a.estimator_doc_link {\n",
              "  float: right;\n",
              "  font-size: 1rem;\n",
              "  line-height: 1em;\n",
              "  font-family: monospace;\n",
              "  background-color: var(--sklearn-color-background);\n",
              "  border-radius: 1rem;\n",
              "  height: 1rem;\n",
              "  width: 1rem;\n",
              "  text-decoration: none;\n",
              "  /* unfitted */\n",
              "  color: var(--sklearn-color-unfitted-level-1);\n",
              "  border: var(--sklearn-color-unfitted-level-1) 1pt solid;\n",
              "}\n",
              "\n",
              "#sk-container-id-1 a.estimator_doc_link.fitted {\n",
              "  /* fitted */\n",
              "  border: var(--sklearn-color-fitted-level-1) 1pt solid;\n",
              "  color: var(--sklearn-color-fitted-level-1);\n",
              "}\n",
              "\n",
              "/* On hover */\n",
              "#sk-container-id-1 a.estimator_doc_link:hover {\n",
              "  /* unfitted */\n",
              "  background-color: var(--sklearn-color-unfitted-level-3);\n",
              "  color: var(--sklearn-color-background);\n",
              "  text-decoration: none;\n",
              "}\n",
              "\n",
              "#sk-container-id-1 a.estimator_doc_link.fitted:hover {\n",
              "  /* fitted */\n",
              "  background-color: var(--sklearn-color-fitted-level-3);\n",
              "}\n",
              "</style><div id=\"sk-container-id-1\" class=\"sk-top-container\"><div class=\"sk-text-repr-fallback\"><pre>LinearRegression()</pre><b>In a Jupyter environment, please rerun this cell to show the HTML representation or trust the notebook. <br />On GitHub, the HTML representation is unable to render, please try loading this page with nbviewer.org.</b></div><div class=\"sk-container\" hidden><div class=\"sk-item\"><div class=\"sk-estimator fitted sk-toggleable\"><input class=\"sk-toggleable__control sk-hidden--visually\" id=\"sk-estimator-id-1\" type=\"checkbox\" checked><label for=\"sk-estimator-id-1\" class=\"sk-toggleable__label fitted sk-toggleable__label-arrow\"><div><div>LinearRegression</div></div><div><a class=\"sk-estimator-doc-link fitted\" rel=\"noreferrer\" target=\"_blank\" href=\"https://scikit-learn.org/1.6/modules/generated/sklearn.linear_model.LinearRegression.html\">?<span>Documentation for LinearRegression</span></a><span class=\"sk-estimator-doc-link fitted\">i<span>Fitted</span></span></div></label><div class=\"sk-toggleable__content fitted\"><pre>LinearRegression()</pre></div> </div></div></div></div>"
            ]
          },
          "metadata": {},
          "execution_count": 7
        }
      ]
    },
    {
      "cell_type": "markdown",
      "source": [
        "### Step 7: Make predictions"
      ],
      "metadata": {
        "id": "oj4AMMhWeYDk"
      }
    },
    {
      "cell_type": "code",
      "source": [
        "y_pred = model.predict(X_test) # Use the trained model to make predictions on the test data (X_test)\n",
        "\n",
        "# For curiosity’s sake Check predictions vs. actual values:\n",
        "print(y_pred) # To view your predictions\n",
        "print(y_test) # To view the actual answers"
      ],
      "metadata": {
        "colab": {
          "base_uri": "https://localhost:8080/"
        },
        "id": "umLQbiKpgE0M",
        "outputId": "44b580d0-7d69-4fa2-bab3-c6484368368c"
      },
      "execution_count": null,
      "outputs": [
        {
          "output_type": "stream",
          "name": "stdout",
          "text": [
            "[653613.91592729 446057.95711906 784632.2300408  548577.0936828\n",
            " 732163.66045402 514438.30020816 620984.7095048  546866.09177618\n",
            " 477277.25956032 749183.21565588 617359.24212453 446158.66454629\n",
            " 665899.19769304 530249.36628325 464286.00144767 605778.91234938\n",
            " 651096.23024654 651600.79173898 644548.19876401 613229.21325181]\n",
            "83    662758\n",
            "53    444644\n",
            "70    798252\n",
            "45    555644\n",
            "44    736025\n",
            "39    526829\n",
            "22    650951\n",
            "80    574608\n",
            "10    508837\n",
            "0     752212\n",
            "18    635095\n",
            "30    460053\n",
            "73    671174\n",
            "33    553013\n",
            "90    468280\n",
            "4     584041\n",
            "76    650113\n",
            "77    658833\n",
            "12    586231\n",
            "31    591413\n",
            "Name: Price ($), dtype: int64\n"
          ]
        }
      ]
    },
    {
      "cell_type": "markdown",
      "source": [
        "### What happens in the backend though?\n",
        "\n",
        "#### Linear Regression Algorithm\n",
        "Model Formula:\n",
        "\n",
        "- `𝑦 = 𝜃0 + 𝜃1𝑥1 + 𝜃2𝑥2`\n",
        "\n",
        "Where:\n",
        "- `𝜃0`  is the intercept\n",
        "- `𝜃1` is the coefficient for house size\n",
        "- `θ2` is the coefficient for number of bedrooms\n",
        "- `𝑥1` is house size\n",
        "- `𝑥2`  is number of bedrooms"
      ],
      "metadata": {
        "id": "zJkrzYo2idd-"
      }
    },
    {
      "cell_type": "code",
      "source": [
        "# Get out the coefficients and intercept\n",
        "print(f\"Intercept: {model.intercept_}\")\n",
        "print(f\"Coefficients: {model.coef_}\")"
      ],
      "metadata": {
        "colab": {
          "base_uri": "https://localhost:8080/"
        },
        "id": "_sCeoJ7miy1e",
        "outputId": "e2dce636-1800-46e0-99f0-91ef3277436a"
      },
      "execution_count": null,
      "outputs": [
        {
          "output_type": "stream",
          "name": "stdout",
          "text": [
            "Intercept: 207181.98844232725\n",
            "Coefficients: [  100.70742723 47935.71100514]\n"
          ]
        }
      ]
    },
    {
      "cell_type": "markdown",
      "source": [
        "##### The linear regression equation based on these results would be:\n",
        "\n",
        "`𝑦 = 207181.98844232725 + 100.70742723 * (House Size (sq ft)) + 47935.71100514 * (Bedrooms)`"
      ],
      "metadata": {
        "id": "QhM3IEhUjR5o"
      }
    },
    {
      "cell_type": "markdown",
      "source": [
        "### Step 8: Evaluate the model"
      ],
      "metadata": {
        "id": "fcmYpHNfjuj2"
      }
    },
    {
      "cell_type": "code",
      "source": [
        "mse = mean_squared_error(y_test, y_pred)\n",
        "# Calculate the Mean Squared Error (MSE) between the actual values (y_test) and the predicted values (y_pred)\n",
        "\n",
        "rmse = np.sqrt(mse)\n",
        "# Calculate the Root Mean Squared Error (RMSE) by taking the square root of the MSE, which provides the error in the same units as the target variable"
      ],
      "metadata": {
        "id": "rKjRWrdSiPMT"
      },
      "execution_count": null,
      "outputs": []
    },
    {
      "cell_type": "markdown",
      "source": [
        "- In essence, you find the **errors** (subtract each predicted value from the actual value) **E**\n",
        "- **Square** these errors ___________________________________________**S**\n",
        "- find the **mean** (average) of all of them __________________**M**\n",
        "- and take the square**root** _________________________________**R**\n"
      ],
      "metadata": {
        "id": "bTfD6AWykLi4"
      }
    },
    {
      "cell_type": "code",
      "source": [
        "# print(\"Predictions:\", y_pred)\n",
        "# print(\"Actual values:\", y_test.values)\n",
        "print(\"Root Mean Squared Error (RMSE):\", rmse)"
      ],
      "metadata": {
        "colab": {
          "base_uri": "https://localhost:8080/"
        },
        "id": "EZc46GVtl1zf",
        "outputId": "61398d91-03c2-469e-9c8b-6f4b52a26201"
      },
      "execution_count": null,
      "outputs": [
        {
          "output_type": "stream",
          "name": "stdout",
          "text": [
            "Root Mean Squared Error (RMSE): 20777.986564024104\n"
          ]
        }
      ]
    },
    {
      "cell_type": "code",
      "source": [
        "# Calculate the R-squared value\n",
        "r2 = r2_score(y_test, y_pred)\n",
        "\n",
        "# Print the R-squared value\n",
        "print(f\"R-squared: {r2:.2f}\") # \".2f\" output in 2 decimal places"
      ],
      "metadata": {
        "colab": {
          "base_uri": "https://localhost:8080/"
        },
        "id": "lA4oNGaAl_JM",
        "outputId": "cc63cd3b-7aee-46b5-a736-651cb8c7f567"
      },
      "execution_count": null,
      "outputs": [
        {
          "output_type": "stream",
          "name": "stdout",
          "text": [
            "R-squared: 0.95\n"
          ]
        }
      ]
    },
    {
      "cell_type": "markdown",
      "source": [
        "### What do these metrics mean??\n",
        "- **RMSE (Root Mean Squared Error)** tries to answer the question: \"How large, on average, are the errors in my model's predictions?\"\n",
        "    - **Optimal Value**: As close to 0 as possible.\n",
        "    - Lower RMSE indicates that the predictions are closer to the actual values, meaning smaller errors.\n",
        "    - Note that for values ranging over 500k, 20k is an acceptable RMSE value. This won't be the case for values below 100k for instance. A good RMSE in this case could  be around 2k or less.\n",
        "\n",
        "- **R-squared (`R²`)** tries to answer the question: \"How well do my model's predictions explain the variability (\"distance\" from the mean) in the actual data?\"\n",
        "    - In essence how good is my model in making predictions\n",
        "    - **Optimal Value**: As close to 1 as possible.\n",
        "    - R² = 1 means the model predicted everything perfectly.\n",
        "     - R² = 0.5 means the predictions were no better than just using the average price of all the houses in the case.\n",
        "     - R² less than 0.5 means the predictions were worse than just using the average every time.\n"
      ],
      "metadata": {
        "id": "vn3EmHc5mfT2"
      }
    },
    {
      "cell_type": "markdown",
      "source": [
        "### Predict the price of a new house"
      ],
      "metadata": {
        "id": "IYOFcik3m85R"
      }
    },
    {
      "cell_type": "code",
      "source": [
        "new_house = pd.DataFrame([[2500, 4]], columns=['Size (sq ft)', 'Bedrooms'])\n",
        "predicted_price = model.predict(new_house)\n",
        "print(f\"Predicted price: ${predicted_price[0]:,.2f}\")"
      ],
      "metadata": {
        "id": "dLrq4QrD5cmI"
      },
      "execution_count": null,
      "outputs": []
    },
    {
      "cell_type": "code",
      "source": [
        "new_house = pd.DataFrame([[2500, 4]], columns=['Size (sq ft)', 'Bedrooms'])  # Size: 2500 sq ft, 4 bedrooms\n",
        "predicted_price = model.predict(new_house)\n",
        "print(f\"Predicted price for the new house: ${predicted_price[0]:,.2f}\")"
      ],
      "metadata": {
        "colab": {
          "base_uri": "https://localhost:8080/"
        },
        "id": "MmNI2MIVkKU0",
        "outputId": "a0039982-fdd1-431d-efc5-c54952998d67"
      },
      "execution_count": null,
      "outputs": [
        {
          "output_type": "stream",
          "name": "stdout",
          "text": [
            "Predicted price for the new house: $650,693.40\n"
          ]
        }
      ]
    },
    {
      "cell_type": "markdown",
      "source": [
        "### Next Steps:\n",
        "You can try this code with real datasets ( e.g., [Chicago House Prices](https://www.kaggle.com/datasets/tawfikelmetwally/chicago-house-price) )\n"
      ],
      "metadata": {
        "id": "hPssAPfho7Js"
      }
    },
    {
      "cell_type": "code",
      "source": [],
      "metadata": {
        "id": "1ZJcfskbNg8Y"
      },
      "execution_count": null,
      "outputs": []
    },
    {
      "cell_type": "markdown",
      "source": [
        "---\n",
        "_**Your Dataness**_,  \n",
        "**`Obinna Oliseneku`** (_**Hybraid**_)  \n",
        "**[LinkedIn](https://www.linkedin.com/in/obinnao/)** | **[GitHub](https://github.com/hybraid6)**  "
      ],
      "metadata": {
        "id": "5kuqPxSlnI_J"
      }
    },
    {
      "cell_type": "markdown",
      "source": [],
      "metadata": {
        "id": "9iPGmLmPMnKF"
      }
    }
  ]
}