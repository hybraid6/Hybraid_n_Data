{
  "nbformat": 4,
  "nbformat_minor": 0,
  "metadata": {
    "colab": {
      "provenance": [],
      "authorship_tag": "ABX9TyN4LyVrmg3Xoq5SM4ogTVIv",
      "include_colab_link": true
    },
    "kernelspec": {
      "name": "python3",
      "display_name": "Python 3"
    },
    "language_info": {
      "name": "python"
    }
  },
  "cells": [
    {
      "cell_type": "markdown",
      "metadata": {
        "id": "view-in-github",
        "colab_type": "text"
      },
      "source": [
        "<a href=\"https://colab.research.google.com/github/hybraid6/Hybraid_n_Data/blob/main/ML01B_Introduction_to_Classification_in_Supervised_Machine_Learning_(with_Code_Walkthrough).ipynb\" target=\"_parent\"><img src=\"https://colab.research.google.com/assets/colab-badge.svg\" alt=\"Open In Colab\"/></a>"
      ]
    },
    {
      "cell_type": "markdown",
      "source": [
        "# Introduction to Classification in Supervised ML (with code walkthrough)"
      ],
      "metadata": {
        "id": "dBoL0Yw1Gmz8"
      }
    },
    {
      "cell_type": "markdown",
      "source": [
        "This is a beginner-friendly guide to **_classification_** in supervised machine learning. You’ll learn:\n",
        "\n",
        "- What classification is and how it differs from regression.\n",
        "- Examples of common classification algorithms.\n",
        "- A hands-on example: Predicting house price category using synthetic data."
      ],
      "metadata": {
        "id": "We5Kpq9nG43W"
      }
    },
    {
      "cell_type": "markdown",
      "source": [
        "### What is Machine Learning\n",
        "Machine Learning (ML) involves teaching or training a computer (or a model) to learn from examples (data) instead of giving it step-by-step instructions. It is a branch of artificial intelligence (AI) that employs statistical techniques to enable computer systems to learn patterns from data without explicit programming.\n",
        "It is broadly categorized into:\n",
        "- Supervised Learning: Training models using labelled datasets.\n",
        "- Unsupervised Learning: Finding hidden patterns in data without labels.\n",
        "- Reinforcement Learning: Learning through rewards and punishments."
      ],
      "metadata": {
        "id": "mWDHb-48IZCI"
      }
    },
    {
      "cell_type": "markdown",
      "source": [
        "### What is Supervised Machine Learning\n",
        "Supervised learning is a type of ML where models learn from labelled data, meaning each training example includes both input features and a known correct output. The data has a column known as the target variable or independent variable. There are two main types:\n",
        "- Classification: Predicting discrete labels (e.g., predicting loan default status).\n",
        "- Regression: Predicting continuous values (e.g., predicting house prices).\n"
      ],
      "metadata": {
        "id": "gS5XeSonInXG"
      }
    },
    {
      "cell_type": "markdown",
      "source": [
        "### What is Classification\n",
        "Classification is a type of supervised learning where the target variable is a category. It teaches the model how to assign labels to data—such as determining whether it will rain or not , or whether a customer will churn or stay.\n"
      ],
      "metadata": {
        "id": "tEMjyZkjJIDs"
      }
    },
    {
      "cell_type": "markdown",
      "source": [
        "### Examples of Classification Algorithms  \n",
        "Some commonly used classification algorithms include:  \n",
        "\n",
        "1. **Logistic Regression**: Despite its name, it's used for binary classification problems.  \n",
        "2. **Decision Tree Classifier**: Uses a tree-like structure to split data into categories.  \n",
        "3. **Random Forest Classifier**: An ensemble method combining multiple decision trees for better accuracy.  \n",
        "4. **Support Vector Machine (SVM)**: Finds the optimal boundary between classes using support vectors.  \n",
        "5. **K-Nearest Neighbors (KNN)**: Classifies data based on the majority class of its nearest neighbors.  \n",
        "6. **Naïve Bayes**: Based on Bayes’ theorem, effective for text classification and spam detection.  \n",
        "7. **Gradient Boosting Machines (GBM)**: Includes XGBoost, LightGBM, and CatBoost, known for high performance on structured data."
      ],
      "metadata": {
        "id": "aaPeGOr0JPGt"
      }
    },
    {
      "cell_type": "markdown",
      "source": [
        "### Example Workflow in Machine Learning\n",
        "A typical machine learning workflow may include the following steps:\n",
        "1. Data Collection: Gather relevant data for training and testing.\n",
        "2. Data Preprocessing: Clean and prepare the data by handling missing values, scaling, and encoding categorical variables if needed.\n",
        "3. Feature Selection: Choose the most important features for better model performance.\n",
        "4. Model Selection and Training: Choose an appropriate classification algorithm and train the model using the training dataset.\n",
        "5. Model Evaluation: Assess performance using metrics like Accuracy, Precision and Recall.\n",
        "6. Hyperparameter Tuning: Optimize the model for better accuracy.\n",
        "7. Deployment: Deploy the trained model for real-world predictions."
      ],
      "metadata": {
        "id": "cqpCRzb2JuN3"
      }
    },
    {
      "cell_type": "markdown",
      "source": [
        "## Code Walkthrough: Predict whether a house is \"Expensive\" or \"Affordable\" With Machine Learning"
      ],
      "metadata": {
        "id": "TZueOxTDKC97"
      }
    },
    {
      "cell_type": "markdown",
      "source": [
        "### Step 1: Import the necessary libraries"
      ],
      "metadata": {
        "id": "D6PDvelXKPht"
      }
    },
    {
      "cell_type": "code",
      "source": [
        "import numpy as np  # For numerical operations\n",
        "import pandas as pd  # For data manipulation using DataFrames\n",
        "import matplotlib.pyplot as plt # For visualization\n",
        "\n",
        "from sklearn.model_selection import train_test_split  # To split the dataset into training and testing sets\n",
        "# Import the LogisticRegression model from scikit-learn's linear_model module\n",
        "from sklearn.linear_model import LogisticRegression\n",
        "\n",
        "# Import metrics for evaluating classification models from scikit-learn's metrics module\n",
        "from sklearn.metrics import accuracy_score  # To calculate the accuracy of the model\n",
        "from sklearn.metrics import confusion_matrix  # To create a confusion matrix for the model's predictions\n",
        "from sklearn.metrics import classification_report  # To generate a detailed classification report including precision, recall, F1-score, and support"
      ],
      "metadata": {
        "id": "H55LTt1rK0Pe"
      },
      "execution_count": null,
      "outputs": []
    },
    {
      "cell_type": "markdown",
      "source": [
        "### Step 2: Generate a simple dataset\n",
        "\n",
        "At this point, you will typically have to import a dataset using `read_csv` but we'll just create a synthetic dataset for this example."
      ],
      "metadata": {
        "id": "16ETlT_PK7Fr"
      }
    },
    {
      "cell_type": "code",
      "source": [
        "# Set random seed for reproducibility\n",
        "np.random.seed(42)\n",
        "\n",
        "# Number of samples\n",
        "num_samples = 100\n",
        "\n",
        "# Generate synthetic data based on the given ranges and patterns\n",
        "sizes = np.random.randint(1400, 3000, num_samples)  # Random sizes between 1400 and 3000 sq ft\n",
        "bedrooms = np.random.choice([2, 3, 4, 5, 6], num_samples)  # Random number of bedrooms between 2 and 6\n",
        "\n",
        "# Generate price categories based on a simple rule:\n",
        "# - 'Affordable' if size is less than 1900 sq ft and bedrooms are less than 5\n",
        "# - 'Expensive' otherwise\n",
        "price_category = np.where((sizes < 1900) & (bedrooms < 5), 'Affordable', 'Expensive')\n",
        "\n",
        "# Create the DataFrame\n",
        "data = {\n",
        "    'Size (sq ft)': sizes,\n",
        "    'Bedrooms': bedrooms,\n",
        "    'Price Category': price_category\n",
        "}\n",
        "\n",
        "df = pd.DataFrame(data)\n",
        "\n",
        "# Display the first few rows of the generated data\n",
        "df.head()"
      ],
      "metadata": {
        "id": "spWy7_dBLoj7",
        "colab": {
          "base_uri": "https://localhost:8080/",
          "height": 206
        },
        "outputId": "b10190ba-2c86-42cb-917c-cdb105dec652"
      },
      "execution_count": null,
      "outputs": [
        {
          "output_type": "execute_result",
          "data": {
            "text/plain": [
              "   Size (sq ft)  Bedrooms Price Category\n",
              "0          2526         6      Expensive\n",
              "1          2859         6      Expensive\n",
              "2          2260         3      Expensive\n",
              "3          2694         6      Expensive\n",
              "4          2530         3      Expensive"
            ],
            "text/html": [
              "\n",
              "  <div id=\"df-2f8fd4ce-4b1d-455f-89c9-7fc86906a36b\" class=\"colab-df-container\">\n",
              "    <div>\n",
              "<style scoped>\n",
              "    .dataframe tbody tr th:only-of-type {\n",
              "        vertical-align: middle;\n",
              "    }\n",
              "\n",
              "    .dataframe tbody tr th {\n",
              "        vertical-align: top;\n",
              "    }\n",
              "\n",
              "    .dataframe thead th {\n",
              "        text-align: right;\n",
              "    }\n",
              "</style>\n",
              "<table border=\"1\" class=\"dataframe\">\n",
              "  <thead>\n",
              "    <tr style=\"text-align: right;\">\n",
              "      <th></th>\n",
              "      <th>Size (sq ft)</th>\n",
              "      <th>Bedrooms</th>\n",
              "      <th>Price Category</th>\n",
              "    </tr>\n",
              "  </thead>\n",
              "  <tbody>\n",
              "    <tr>\n",
              "      <th>0</th>\n",
              "      <td>2526</td>\n",
              "      <td>6</td>\n",
              "      <td>Expensive</td>\n",
              "    </tr>\n",
              "    <tr>\n",
              "      <th>1</th>\n",
              "      <td>2859</td>\n",
              "      <td>6</td>\n",
              "      <td>Expensive</td>\n",
              "    </tr>\n",
              "    <tr>\n",
              "      <th>2</th>\n",
              "      <td>2260</td>\n",
              "      <td>3</td>\n",
              "      <td>Expensive</td>\n",
              "    </tr>\n",
              "    <tr>\n",
              "      <th>3</th>\n",
              "      <td>2694</td>\n",
              "      <td>6</td>\n",
              "      <td>Expensive</td>\n",
              "    </tr>\n",
              "    <tr>\n",
              "      <th>4</th>\n",
              "      <td>2530</td>\n",
              "      <td>3</td>\n",
              "      <td>Expensive</td>\n",
              "    </tr>\n",
              "  </tbody>\n",
              "</table>\n",
              "</div>\n",
              "    <div class=\"colab-df-buttons\">\n",
              "\n",
              "  <div class=\"colab-df-container\">\n",
              "    <button class=\"colab-df-convert\" onclick=\"convertToInteractive('df-2f8fd4ce-4b1d-455f-89c9-7fc86906a36b')\"\n",
              "            title=\"Convert this dataframe to an interactive table.\"\n",
              "            style=\"display:none;\">\n",
              "\n",
              "  <svg xmlns=\"http://www.w3.org/2000/svg\" height=\"24px\" viewBox=\"0 -960 960 960\">\n",
              "    <path d=\"M120-120v-720h720v720H120Zm60-500h600v-160H180v160Zm220 220h160v-160H400v160Zm0 220h160v-160H400v160ZM180-400h160v-160H180v160Zm440 0h160v-160H620v160ZM180-180h160v-160H180v160Zm440 0h160v-160H620v160Z\"/>\n",
              "  </svg>\n",
              "    </button>\n",
              "\n",
              "  <style>\n",
              "    .colab-df-container {\n",
              "      display:flex;\n",
              "      gap: 12px;\n",
              "    }\n",
              "\n",
              "    .colab-df-convert {\n",
              "      background-color: #E8F0FE;\n",
              "      border: none;\n",
              "      border-radius: 50%;\n",
              "      cursor: pointer;\n",
              "      display: none;\n",
              "      fill: #1967D2;\n",
              "      height: 32px;\n",
              "      padding: 0 0 0 0;\n",
              "      width: 32px;\n",
              "    }\n",
              "\n",
              "    .colab-df-convert:hover {\n",
              "      background-color: #E2EBFA;\n",
              "      box-shadow: 0px 1px 2px rgba(60, 64, 67, 0.3), 0px 1px 3px 1px rgba(60, 64, 67, 0.15);\n",
              "      fill: #174EA6;\n",
              "    }\n",
              "\n",
              "    .colab-df-buttons div {\n",
              "      margin-bottom: 4px;\n",
              "    }\n",
              "\n",
              "    [theme=dark] .colab-df-convert {\n",
              "      background-color: #3B4455;\n",
              "      fill: #D2E3FC;\n",
              "    }\n",
              "\n",
              "    [theme=dark] .colab-df-convert:hover {\n",
              "      background-color: #434B5C;\n",
              "      box-shadow: 0px 1px 3px 1px rgba(0, 0, 0, 0.15);\n",
              "      filter: drop-shadow(0px 1px 2px rgba(0, 0, 0, 0.3));\n",
              "      fill: #FFFFFF;\n",
              "    }\n",
              "  </style>\n",
              "\n",
              "    <script>\n",
              "      const buttonEl =\n",
              "        document.querySelector('#df-2f8fd4ce-4b1d-455f-89c9-7fc86906a36b button.colab-df-convert');\n",
              "      buttonEl.style.display =\n",
              "        google.colab.kernel.accessAllowed ? 'block' : 'none';\n",
              "\n",
              "      async function convertToInteractive(key) {\n",
              "        const element = document.querySelector('#df-2f8fd4ce-4b1d-455f-89c9-7fc86906a36b');\n",
              "        const dataTable =\n",
              "          await google.colab.kernel.invokeFunction('convertToInteractive',\n",
              "                                                    [key], {});\n",
              "        if (!dataTable) return;\n",
              "\n",
              "        const docLinkHtml = 'Like what you see? Visit the ' +\n",
              "          '<a target=\"_blank\" href=https://colab.research.google.com/notebooks/data_table.ipynb>data table notebook</a>'\n",
              "          + ' to learn more about interactive tables.';\n",
              "        element.innerHTML = '';\n",
              "        dataTable['output_type'] = 'display_data';\n",
              "        await google.colab.output.renderOutput(dataTable, element);\n",
              "        const docLink = document.createElement('div');\n",
              "        docLink.innerHTML = docLinkHtml;\n",
              "        element.appendChild(docLink);\n",
              "      }\n",
              "    </script>\n",
              "  </div>\n",
              "\n",
              "\n",
              "<div id=\"df-00cf09aa-90c4-43a9-b3a8-52a6e323f3b9\">\n",
              "  <button class=\"colab-df-quickchart\" onclick=\"quickchart('df-00cf09aa-90c4-43a9-b3a8-52a6e323f3b9')\"\n",
              "            title=\"Suggest charts\"\n",
              "            style=\"display:none;\">\n",
              "\n",
              "<svg xmlns=\"http://www.w3.org/2000/svg\" height=\"24px\"viewBox=\"0 0 24 24\"\n",
              "     width=\"24px\">\n",
              "    <g>\n",
              "        <path d=\"M19 3H5c-1.1 0-2 .9-2 2v14c0 1.1.9 2 2 2h14c1.1 0 2-.9 2-2V5c0-1.1-.9-2-2-2zM9 17H7v-7h2v7zm4 0h-2V7h2v10zm4 0h-2v-4h2v4z\"/>\n",
              "    </g>\n",
              "</svg>\n",
              "  </button>\n",
              "\n",
              "<style>\n",
              "  .colab-df-quickchart {\n",
              "      --bg-color: #E8F0FE;\n",
              "      --fill-color: #1967D2;\n",
              "      --hover-bg-color: #E2EBFA;\n",
              "      --hover-fill-color: #174EA6;\n",
              "      --disabled-fill-color: #AAA;\n",
              "      --disabled-bg-color: #DDD;\n",
              "  }\n",
              "\n",
              "  [theme=dark] .colab-df-quickchart {\n",
              "      --bg-color: #3B4455;\n",
              "      --fill-color: #D2E3FC;\n",
              "      --hover-bg-color: #434B5C;\n",
              "      --hover-fill-color: #FFFFFF;\n",
              "      --disabled-bg-color: #3B4455;\n",
              "      --disabled-fill-color: #666;\n",
              "  }\n",
              "\n",
              "  .colab-df-quickchart {\n",
              "    background-color: var(--bg-color);\n",
              "    border: none;\n",
              "    border-radius: 50%;\n",
              "    cursor: pointer;\n",
              "    display: none;\n",
              "    fill: var(--fill-color);\n",
              "    height: 32px;\n",
              "    padding: 0;\n",
              "    width: 32px;\n",
              "  }\n",
              "\n",
              "  .colab-df-quickchart:hover {\n",
              "    background-color: var(--hover-bg-color);\n",
              "    box-shadow: 0 1px 2px rgba(60, 64, 67, 0.3), 0 1px 3px 1px rgba(60, 64, 67, 0.15);\n",
              "    fill: var(--button-hover-fill-color);\n",
              "  }\n",
              "\n",
              "  .colab-df-quickchart-complete:disabled,\n",
              "  .colab-df-quickchart-complete:disabled:hover {\n",
              "    background-color: var(--disabled-bg-color);\n",
              "    fill: var(--disabled-fill-color);\n",
              "    box-shadow: none;\n",
              "  }\n",
              "\n",
              "  .colab-df-spinner {\n",
              "    border: 2px solid var(--fill-color);\n",
              "    border-color: transparent;\n",
              "    border-bottom-color: var(--fill-color);\n",
              "    animation:\n",
              "      spin 1s steps(1) infinite;\n",
              "  }\n",
              "\n",
              "  @keyframes spin {\n",
              "    0% {\n",
              "      border-color: transparent;\n",
              "      border-bottom-color: var(--fill-color);\n",
              "      border-left-color: var(--fill-color);\n",
              "    }\n",
              "    20% {\n",
              "      border-color: transparent;\n",
              "      border-left-color: var(--fill-color);\n",
              "      border-top-color: var(--fill-color);\n",
              "    }\n",
              "    30% {\n",
              "      border-color: transparent;\n",
              "      border-left-color: var(--fill-color);\n",
              "      border-top-color: var(--fill-color);\n",
              "      border-right-color: var(--fill-color);\n",
              "    }\n",
              "    40% {\n",
              "      border-color: transparent;\n",
              "      border-right-color: var(--fill-color);\n",
              "      border-top-color: var(--fill-color);\n",
              "    }\n",
              "    60% {\n",
              "      border-color: transparent;\n",
              "      border-right-color: var(--fill-color);\n",
              "    }\n",
              "    80% {\n",
              "      border-color: transparent;\n",
              "      border-right-color: var(--fill-color);\n",
              "      border-bottom-color: var(--fill-color);\n",
              "    }\n",
              "    90% {\n",
              "      border-color: transparent;\n",
              "      border-bottom-color: var(--fill-color);\n",
              "    }\n",
              "  }\n",
              "</style>\n",
              "\n",
              "  <script>\n",
              "    async function quickchart(key) {\n",
              "      const quickchartButtonEl =\n",
              "        document.querySelector('#' + key + ' button');\n",
              "      quickchartButtonEl.disabled = true;  // To prevent multiple clicks.\n",
              "      quickchartButtonEl.classList.add('colab-df-spinner');\n",
              "      try {\n",
              "        const charts = await google.colab.kernel.invokeFunction(\n",
              "            'suggestCharts', [key], {});\n",
              "      } catch (error) {\n",
              "        console.error('Error during call to suggestCharts:', error);\n",
              "      }\n",
              "      quickchartButtonEl.classList.remove('colab-df-spinner');\n",
              "      quickchartButtonEl.classList.add('colab-df-quickchart-complete');\n",
              "    }\n",
              "    (() => {\n",
              "      let quickchartButtonEl =\n",
              "        document.querySelector('#df-00cf09aa-90c4-43a9-b3a8-52a6e323f3b9 button');\n",
              "      quickchartButtonEl.style.display =\n",
              "        google.colab.kernel.accessAllowed ? 'block' : 'none';\n",
              "    })();\n",
              "  </script>\n",
              "</div>\n",
              "\n",
              "    </div>\n",
              "  </div>\n"
            ],
            "application/vnd.google.colaboratory.intrinsic+json": {
              "type": "dataframe",
              "variable_name": "df",
              "summary": "{\n  \"name\": \"df\",\n  \"rows\": 100,\n  \"fields\": [\n    {\n      \"column\": \"Size (sq ft)\",\n      \"properties\": {\n        \"dtype\": \"number\",\n        \"std\": 477,\n        \"min\": 1413,\n        \"max\": 2990,\n        \"num_unique_values\": 97,\n        \"samples\": [\n          2769,\n          2375,\n          2885\n        ],\n        \"semantic_type\": \"\",\n        \"description\": \"\"\n      }\n    },\n    {\n      \"column\": \"Bedrooms\",\n      \"properties\": {\n        \"dtype\": \"number\",\n        \"std\": 1,\n        \"min\": 2,\n        \"max\": 6,\n        \"num_unique_values\": 5,\n        \"samples\": [\n          3,\n          4,\n          2\n        ],\n        \"semantic_type\": \"\",\n        \"description\": \"\"\n      }\n    },\n    {\n      \"column\": \"Price Category\",\n      \"properties\": {\n        \"dtype\": \"category\",\n        \"num_unique_values\": 2,\n        \"samples\": [\n          \"Affordable\",\n          \"Expensive\"\n        ],\n        \"semantic_type\": \"\",\n        \"description\": \"\"\n      }\n    }\n  ]\n}"
            }
          },
          "metadata": {},
          "execution_count": 2
        }
      ]
    },
    {
      "cell_type": "markdown",
      "source": [
        "### Step 3: Exploratory Data Analysis (EDA)"
      ],
      "metadata": {
        "id": "mOcnMMp3L3fM"
      }
    },
    {
      "cell_type": "code",
      "source": [
        "# Let's use a bar chart to see if there's a relationship between Price Category and House size\n",
        "\n",
        "# Group the data by 'Price Category' and calculate the average house size in each category\n",
        "avg_size_per_category = df.groupby('Price Category')['Size (sq ft)'].mean()\n",
        "\n",
        "# Plot the average house size for each price category as a bar chart\n",
        "avg_size_per_category.plot(kind='bar', color=['teal', 'orange'])\n",
        "\n",
        "# Add a title to describe the plot\n",
        "plt.title(\"Average House Size by Price Category\")\n",
        "\n",
        "# Label the x-axis (categories of price: e.g., 'Affordable', 'Expensive')\n",
        "plt.xlabel(\"Price Category\")\n",
        "\n",
        "# Label the y-axis (average house size in square feet)\n",
        "plt.ylabel(\"Average Size (sq ft)\")\n",
        "\n",
        "# Display the plot\n",
        "plt.show()\n",
        "\n",
        "\n",
        "# Here we’ll see that \"Expensive\" houses tend to be larger."
      ],
      "metadata": {
        "colab": {
          "base_uri": "https://localhost:8080/",
          "height": 529
        },
        "id": "tVLzf0OaKzIw",
        "outputId": "082dcbaf-b54a-49a6-92e9-5aa0551fe131"
      },
      "execution_count": null,
      "outputs": [
        {
          "output_type": "display_data",
          "data": {
            "text/plain": [
              "<Figure size 640x480 with 1 Axes>"
            ],
            "image/png": "[encoded data removed]"
          },
          "metadata": {}
        }
      ]
    },
    {
      "cell_type": "markdown",
      "source": [
        "Practice: Try Price Category vs. Bedrooms"
      ],
      "metadata": {
        "id": "E-m1RP-ycbOH"
      }
    },
    {
      "cell_type": "markdown",
      "source": [
        "### Step 4: Encode the target variable (convert the categories to numbers)"
      ],
      "metadata": {
        "id": "oNPPOdt9dnb1"
      }
    },
    {
      "cell_type": "code",
      "source": [
        "# 'Affordable' is mapped to 0, and 'Expensive' is mapped to 1\n",
        "df['Price Category'] = df['Price Category'].map({'Affordable': 0, 'Expensive': 1})"
      ],
      "metadata": {
        "id": "FJTneQHqKGUp"
      },
      "execution_count": null,
      "outputs": []
    },
    {
      "cell_type": "markdown",
      "source": [
        "### Step 5: Separate features and target variable"
      ],
      "metadata": {
        "id": "GFOeU3b5K26O"
      }
    },
    {
      "cell_type": "code",
      "source": [
        "X = df[['Size (sq ft)', 'Bedrooms']]\n",
        "y = df['Price Category']"
      ],
      "metadata": {
        "id": "PngYLgUKeMo1"
      },
      "execution_count": null,
      "outputs": []
    },
    {
      "cell_type": "markdown",
      "source": [
        "### Step 6: Split the data into training and testing sets"
      ],
      "metadata": {
        "id": "5Pkdp8loeNr1"
      }
    },
    {
      "cell_type": "code",
      "source": [
        "X_train, X_test, y_train, y_test = train_test_split(X, y, test_size=0.2, random_state=42)\n",
        "\n",
        "# X: Features (independent variables) in the dataset\n",
        "# y: Target (dependent variable) in the dataset\n",
        "\n",
        "# test_size=0.2: Specifies that 20% of the data should be used for the\n",
        "# test set, and the remaining 80% for the training set.\n",
        "\n",
        "# random_state=42: Ensures that the data is split in the same way every time\n",
        "# you run the code, providing reproducibility.\n",
        "# The number 42 is arbitrary and can be any integer.\n",
        "\n",
        "# X_train: Training data for the features\n",
        "# X_test: Testing data for the features\n",
        "\n",
        "# y_train: Training data for the target\n",
        "# y_test: Testing data for the target"
      ],
      "metadata": {
        "id": "8x1pxRmTejMF"
      },
      "execution_count": null,
      "outputs": []
    },
    {
      "cell_type": "markdown",
      "source": [
        "### Step 7: Choose and train the model"
      ],
      "metadata": {
        "id": "XFg60iBzf3u5"
      }
    },
    {
      "cell_type": "code",
      "source": [
        "model = LogisticRegression()  # Initialize a Logistic Regression model\n",
        "model.fit(X_train, y_train)   # Train the model using the training data (X_train) and the corresponding target values (y_train)"
      ],
      "metadata": {
        "colab": {
          "base_uri": "https://localhost:8080/",
          "height": 80
        },
        "id": "kpnnLroif-lE",
        "outputId": "910c0d7d-7a04-45ae-9a52-ebc951b93034"
      },
      "execution_count": null,
      "outputs": [
        {
          "output_type": "execute_result",
          "data": {
            "text/plain": [
              "LogisticRegression()"
            ],
            "text/html": [
              "<style>#sk-container-id-1 {\n",
              "  /* Definition of color scheme common for light and dark mode */\n",
              "  --sklearn-color-text: #000;\n",
              "  --sklearn-color-text-muted: #666;\n",
              "  --sklearn-color-line: gray;\n",
              "  /* Definition of color scheme for unfitted estimators */\n",
              "  --sklearn-color-unfitted-level-0: #fff5e6;\n",
              "  --sklearn-color-unfitted-level-1: #f6e4d2;\n",
              "  --sklearn-color-unfitted-level-2: #ffe0b3;\n",
              "  --sklearn-color-unfitted-level-3: chocolate;\n",
              "  /* Definition of color scheme for fitted estimators */\n",
              "  --sklearn-color-fitted-level-0: #f0f8ff;\n",
              "  --sklearn-color-fitted-level-1: #d4ebff;\n",
              "  --sklearn-color-fitted-level-2: #b3dbfd;\n",
              "  --sklearn-color-fitted-level-3: cornflowerblue;\n",
              "\n",
              "  /* Specific color for light theme */\n",
              "  --sklearn-color-text-on-default-background: var(--sg-text-color, var(--theme-code-foreground, var(--jp-content-font-color1, black)));\n",
              "  --sklearn-color-background: var(--sg-background-color, var(--theme-background, var(--jp-layout-color0, white)));\n",
              "  --sklearn-color-border-box: var(--sg-text-color, var(--theme-code-foreground, var(--jp-content-font-color1, black)));\n",
              "  --sklearn-color-icon: #696969;\n",
              "\n",
              "  @media (prefers-color-scheme: dark) {\n",
              "    /* Redefinition of color scheme for dark theme */\n",
              "    --sklearn-color-text-on-default-background: var(--sg-text-color, var(--theme-code-foreground, var(--jp-content-font-color1, white)));\n",
              "    --sklearn-color-background: var(--sg-background-color, var(--theme-background, var(--jp-layout-color0, #111)));\n",
              "    --sklearn-color-border-box: var(--sg-text-color, var(--theme-code-foreground, var(--jp-content-font-color1, white)));\n",
              "    --sklearn-color-icon: #878787;\n",
              "  }\n",
              "}\n",
              "\n",
              "#sk-container-id-1 {\n",
              "  color: var(--sklearn-color-text);\n",
              "}\n",
              "\n",
              "#sk-container-id-1 pre {\n",
              "  padding: 0;\n",
              "}\n",
              "\n",
              "#sk-container-id-1 input.sk-hidden--visually {\n",
              "  border: 0;\n",
              "  clip: rect(1px 1px 1px 1px);\n",
              "  clip: rect(1px, 1px, 1px, 1px);\n",
              "  height: 1px;\n",
              "  margin: -1px;\n",
              "  overflow: hidden;\n",
              "  padding: 0;\n",
              "  position: absolute;\n",
              "  width: 1px;\n",
              "}\n",
              "\n",
              "#sk-container-id-1 div.sk-dashed-wrapped {\n",
              "  border: 1px dashed var(--sklearn-color-line);\n",
              "  margin: 0 0.4em 0.5em 0.4em;\n",
              "  box-sizing: border-box;\n",
              "  padding-bottom: 0.4em;\n",
              "  background-color: var(--sklearn-color-background);\n",
              "}\n",
              "\n",
              "#sk-container-id-1 div.sk-container {\n",
              "  /* jupyter's `normalize.less` sets `[hidden] { display: none; }`\n",
              "     but bootstrap.min.css set `[hidden] { display: none !important; }`\n",
              "     so we also need the `!important` here to be able to override the\n",
              "     default hidden behavior on the sphinx rendered scikit-learn.org.\n",
              "     See: https://github.com/scikit-learn/scikit-learn/issues/21755 */\n",
              "  display: inline-block !important;\n",
              "  position: relative;\n",
              "}\n",
              "\n",
              "#sk-container-id-1 div.sk-text-repr-fallback {\n",
              "  display: none;\n",
              "}\n",
              "\n",
              "div.sk-parallel-item,\n",
              "div.sk-serial,\n",
              "div.sk-item {\n",
              "  /* draw centered vertical line to link estimators */\n",
              "  background-image: linear-gradient(var(--sklearn-color-text-on-default-background), var(--sklearn-color-text-on-default-background));\n",
              "  background-size: 2px 100%;\n",
              "  background-repeat: no-repeat;\n",
              "  background-position: center center;\n",
              "}\n",
              "\n",
              "/* Parallel-specific style estimator block */\n",
              "\n",
              "#sk-container-id-1 div.sk-parallel-item::after {\n",
              "  content: \"\";\n",
              "  width: 100%;\n",
              "  border-bottom: 2px solid var(--sklearn-color-text-on-default-background);\n",
              "  flex-grow: 1;\n",
              "}\n",
              "\n",
              "#sk-container-id-1 div.sk-parallel {\n",
              "  display: flex;\n",
              "  align-items: stretch;\n",
              "  justify-content: center;\n",
              "  background-color: var(--sklearn-color-background);\n",
              "  position: relative;\n",
              "}\n",
              "\n",
              "#sk-container-id-1 div.sk-parallel-item {\n",
              "  display: flex;\n",
              "  flex-direction: column;\n",
              "}\n",
              "\n",
              "#sk-container-id-1 div.sk-parallel-item:first-child::after {\n",
              "  align-self: flex-end;\n",
              "  width: 50%;\n",
              "}\n",
              "\n",
              "#sk-container-id-1 div.sk-parallel-item:last-child::after {\n",
              "  align-self: flex-start;\n",
              "  width: 50%;\n",
              "}\n",
              "\n",
              "#sk-container-id-1 div.sk-parallel-item:only-child::after {\n",
              "  width: 0;\n",
              "}\n",
              "\n",
              "/* Serial-specific style estimator block */\n",
              "\n",
              "#sk-container-id-1 div.sk-serial {\n",
              "  display: flex;\n",
              "  flex-direction: column;\n",
              "  align-items: center;\n",
              "  background-color: var(--sklearn-color-background);\n",
              "  padding-right: 1em;\n",
              "  padding-left: 1em;\n",
              "}\n",
              "\n",
              "\n",
              "/* Toggleable style: style used for estimator/Pipeline/ColumnTransformer box that is\n",
              "clickable and can be expanded/collapsed.\n",
              "- Pipeline and ColumnTransformer use this feature and define the default style\n",
              "- Estimators will overwrite some part of the style using the `sk-estimator` class\n",
              "*/\n",
              "\n",
              "/* Pipeline and ColumnTransformer style (default) */\n",
              "\n",
              "#sk-container-id-1 div.sk-toggleable {\n",
              "  /* Default theme specific background. It is overwritten whether we have a\n",
              "  specific estimator or a Pipeline/ColumnTransformer */\n",
              "  background-color: var(--sklearn-color-background);\n",
              "}\n",
              "\n",
              "/* Toggleable label */\n",
              "#sk-container-id-1 label.sk-toggleable__label {\n",
              "  cursor: pointer;\n",
              "  display: flex;\n",
              "  width: 100%;\n",
              "  margin-bottom: 0;\n",
              "  padding: 0.5em;\n",
              "  box-sizing: border-box;\n",
              "  text-align: center;\n",
              "  align-items: start;\n",
              "  justify-content: space-between;\n",
              "  gap: 0.5em;\n",
              "}\n",
              "\n",
              "#sk-container-id-1 label.sk-toggleable__label .caption {\n",
              "  font-size: 0.6rem;\n",
              "  font-weight: lighter;\n",
              "  color: var(--sklearn-color-text-muted);\n",
              "}\n",
              "\n",
              "#sk-container-id-1 label.sk-toggleable__label-arrow:before {\n",
              "  /* Arrow on the left of the label */\n",
              "  content: \"▸\";\n",
              "  float: left;\n",
              "  margin-right: 0.25em;\n",
              "  color: var(--sklearn-color-icon);\n",
              "}\n",
              "\n",
              "#sk-container-id-1 label.sk-toggleable__label-arrow:hover:before {\n",
              "  color: var(--sklearn-color-text);\n",
              "}\n",
              "\n",
              "/* Toggleable content - dropdown */\n",
              "\n",
              "#sk-container-id-1 div.sk-toggleable__content {\n",
              "  max-height: 0;\n",
              "  max-width: 0;\n",
              "  overflow: hidden;\n",
              "  text-align: left;\n",
              "  /* unfitted */\n",
              "  background-color: var(--sklearn-color-unfitted-level-0);\n",
              "}\n",
              "\n",
              "#sk-container-id-1 div.sk-toggleable__content.fitted {\n",
              "  /* fitted */\n",
              "  background-color: var(--sklearn-color-fitted-level-0);\n",
              "}\n",
              "\n",
              "#sk-container-id-1 div.sk-toggleable__content pre {\n",
              "  margin: 0.2em;\n",
              "  border-radius: 0.25em;\n",
              "  color: var(--sklearn-color-text);\n",
              "  /* unfitted */\n",
              "  background-color: var(--sklearn-color-unfitted-level-0);\n",
              "}\n",
              "\n",
              "#sk-container-id-1 div.sk-toggleable__content.fitted pre {\n",
              "  /* unfitted */\n",
              "  background-color: var(--sklearn-color-fitted-level-0);\n",
              "}\n",
              "\n",
              "#sk-container-id-1 input.sk-toggleable__control:checked~div.sk-toggleable__content {\n",
              "  /* Expand drop-down */\n",
              "  max-height: 200px;\n",
              "  max-width: 100%;\n",
              "  overflow: auto;\n",
              "}\n",
              "\n",
              "#sk-container-id-1 input.sk-toggleable__control:checked~label.sk-toggleable__label-arrow:before {\n",
              "  content: \"▾\";\n",
              "}\n",
              "\n",
              "/* Pipeline/ColumnTransformer-specific style */\n",
              "\n",
              "#sk-container-id-1 div.sk-label input.sk-toggleable__control:checked~label.sk-toggleable__label {\n",
              "  color: var(--sklearn-color-text);\n",
              "  background-color: var(--sklearn-color-unfitted-level-2);\n",
              "}\n",
              "\n",
              "#sk-container-id-1 div.sk-label.fitted input.sk-toggleable__control:checked~label.sk-toggleable__label {\n",
              "  background-color: var(--sklearn-color-fitted-level-2);\n",
              "}\n",
              "\n",
              "/* Estimator-specific style */\n",
              "\n",
              "/* Colorize estimator box */\n",
              "#sk-container-id-1 div.sk-estimator input.sk-toggleable__control:checked~label.sk-toggleable__label {\n",
              "  /* unfitted */\n",
              "  background-color: var(--sklearn-color-unfitted-level-2);\n",
              "}\n",
              "\n",
              "#sk-container-id-1 div.sk-estimator.fitted input.sk-toggleable__control:checked~label.sk-toggleable__label {\n",
              "  /* fitted */\n",
              "  background-color: var(--sklearn-color-fitted-level-2);\n",
              "}\n",
              "\n",
              "#sk-container-id-1 div.sk-label label.sk-toggleable__label,\n",
              "#sk-container-id-1 div.sk-label label {\n",
              "  /* The background is the default theme color */\n",
              "  color: var(--sklearn-color-text-on-default-background);\n",
              "}\n",
              "\n",
              "/* On hover, darken the color of the background */\n",
              "#sk-container-id-1 div.sk-label:hover label.sk-toggleable__label {\n",
              "  color: var(--sklearn-color-text);\n",
              "  background-color: var(--sklearn-color-unfitted-level-2);\n",
              "}\n",
              "\n",
              "/* Label box, darken color on hover, fitted */\n",
              "#sk-container-id-1 div.sk-label.fitted:hover label.sk-toggleable__label.fitted {\n",
              "  color: var(--sklearn-color-text);\n",
              "  background-color: var(--sklearn-color-fitted-level-2);\n",
              "}\n",
              "\n",
              "/* Estimator label */\n",
              "\n",
              "#sk-container-id-1 div.sk-label label {\n",
              "  font-family: monospace;\n",
              "  font-weight: bold;\n",
              "  display: inline-block;\n",
              "  line-height: 1.2em;\n",
              "}\n",
              "\n",
              "#sk-container-id-1 div.sk-label-container {\n",
              "  text-align: center;\n",
              "}\n",
              "\n",
              "/* Estimator-specific */\n",
              "#sk-container-id-1 div.sk-estimator {\n",
              "  font-family: monospace;\n",
              "  border: 1px dotted var(--sklearn-color-border-box);\n",
              "  border-radius: 0.25em;\n",
              "  box-sizing: border-box;\n",
              "  margin-bottom: 0.5em;\n",
              "  /* unfitted */\n",
              "  background-color: var(--sklearn-color-unfitted-level-0);\n",
              "}\n",
              "\n",
              "#sk-container-id-1 div.sk-estimator.fitted {\n",
              "  /* fitted */\n",
              "  background-color: var(--sklearn-color-fitted-level-0);\n",
              "}\n",
              "\n",
              "/* on hover */\n",
              "#sk-container-id-1 div.sk-estimator:hover {\n",
              "  /* unfitted */\n",
              "  background-color: var(--sklearn-color-unfitted-level-2);\n",
              "}\n",
              "\n",
              "#sk-container-id-1 div.sk-estimator.fitted:hover {\n",
              "  /* fitted */\n",
              "  background-color: var(--sklearn-color-fitted-level-2);\n",
              "}\n",
              "\n",
              "/* Specification for estimator info (e.g. \"i\" and \"?\") */\n",
              "\n",
              "/* Common style for \"i\" and \"?\" */\n",
              "\n",
              ".sk-estimator-doc-link,\n",
              "a:link.sk-estimator-doc-link,\n",
              "a:visited.sk-estimator-doc-link {\n",
              "  float: right;\n",
              "  font-size: smaller;\n",
              "  line-height: 1em;\n",
              "  font-family: monospace;\n",
              "  background-color: var(--sklearn-color-background);\n",
              "  border-radius: 1em;\n",
              "  height: 1em;\n",
              "  width: 1em;\n",
              "  text-decoration: none !important;\n",
              "  margin-left: 0.5em;\n",
              "  text-align: center;\n",
              "  /* unfitted */\n",
              "  border: var(--sklearn-color-unfitted-level-1) 1pt solid;\n",
              "  color: var(--sklearn-color-unfitted-level-1);\n",
              "}\n",
              "\n",
              ".sk-estimator-doc-link.fitted,\n",
              "a:link.sk-estimator-doc-link.fitted,\n",
              "a:visited.sk-estimator-doc-link.fitted {\n",
              "  /* fitted */\n",
              "  border: var(--sklearn-color-fitted-level-1) 1pt solid;\n",
              "  color: var(--sklearn-color-fitted-level-1);\n",
              "}\n",
              "\n",
              "/* On hover */\n",
              "div.sk-estimator:hover .sk-estimator-doc-link:hover,\n",
              ".sk-estimator-doc-link:hover,\n",
              "div.sk-label-container:hover .sk-estimator-doc-link:hover,\n",
              ".sk-estimator-doc-link:hover {\n",
              "  /* unfitted */\n",
              "  background-color: var(--sklearn-color-unfitted-level-3);\n",
              "  color: var(--sklearn-color-background);\n",
              "  text-decoration: none;\n",
              "}\n",
              "\n",
              "div.sk-estimator.fitted:hover .sk-estimator-doc-link.fitted:hover,\n",
              ".sk-estimator-doc-link.fitted:hover,\n",
              "div.sk-label-container:hover .sk-estimator-doc-link.fitted:hover,\n",
              ".sk-estimator-doc-link.fitted:hover {\n",
              "  /* fitted */\n",
              "  background-color: var(--sklearn-color-fitted-level-3);\n",
              "  color: var(--sklearn-color-background);\n",
              "  text-decoration: none;\n",
              "}\n",
              "\n",
              "/* Span, style for the box shown on hovering the info icon */\n",
              ".sk-estimator-doc-link span {\n",
              "  display: none;\n",
              "  z-index: 9999;\n",
              "  position: relative;\n",
              "  font-weight: normal;\n",
              "  right: .2ex;\n",
              "  padding: .5ex;\n",
              "  margin: .5ex;\n",
              "  width: min-content;\n",
              "  min-width: 20ex;\n",
              "  max-width: 50ex;\n",
              "  color: var(--sklearn-color-text);\n",
              "  box-shadow: 2pt 2pt 4pt #999;\n",
              "  /* unfitted */\n",
              "  background: var(--sklearn-color-unfitted-level-0);\n",
              "  border: .5pt solid var(--sklearn-color-unfitted-level-3);\n",
              "}\n",
              "\n",
              ".sk-estimator-doc-link.fitted span {\n",
              "  /* fitted */\n",
              "  background: var(--sklearn-color-fitted-level-0);\n",
              "  border: var(--sklearn-color-fitted-level-3);\n",
              "}\n",
              "\n",
              ".sk-estimator-doc-link:hover span {\n",
              "  display: block;\n",
              "}\n",
              "\n",
              "/* \"?\"-specific style due to the `<a>` HTML tag */\n",
              "\n",
              "#sk-container-id-1 a.estimator_doc_link {\n",
              "  float: right;\n",
              "  font-size: 1rem;\n",
              "  line-height: 1em;\n",
              "  font-family: monospace;\n",
              "  background-color: var(--sklearn-color-background);\n",
              "  border-radius: 1rem;\n",
              "  height: 1rem;\n",
              "  width: 1rem;\n",
              "  text-decoration: none;\n",
              "  /* unfitted */\n",
              "  color: var(--sklearn-color-unfitted-level-1);\n",
              "  border: var(--sklearn-color-unfitted-level-1) 1pt solid;\n",
              "}\n",
              "\n",
              "#sk-container-id-1 a.estimator_doc_link.fitted {\n",
              "  /* fitted */\n",
              "  border: var(--sklearn-color-fitted-level-1) 1pt solid;\n",
              "  color: var(--sklearn-color-fitted-level-1);\n",
              "}\n",
              "\n",
              "/* On hover */\n",
              "#sk-container-id-1 a.estimator_doc_link:hover {\n",
              "  /* unfitted */\n",
              "  background-color: var(--sklearn-color-unfitted-level-3);\n",
              "  color: var(--sklearn-color-background);\n",
              "  text-decoration: none;\n",
              "}\n",
              "\n",
              "#sk-container-id-1 a.estimator_doc_link.fitted:hover {\n",
              "  /* fitted */\n",
              "  background-color: var(--sklearn-color-fitted-level-3);\n",
              "}\n",
              "</style><div id=\"sk-container-id-1\" class=\"sk-top-container\"><div class=\"sk-text-repr-fallback\"><pre>LogisticRegression()</pre><b>In a Jupyter environment, please rerun this cell to show the HTML representation or trust the notebook. <br />On GitHub, the HTML representation is unable to render, please try loading this page with nbviewer.org.</b></div><div class=\"sk-container\" hidden><div class=\"sk-item\"><div class=\"sk-estimator fitted sk-toggleable\"><input class=\"sk-toggleable__control sk-hidden--visually\" id=\"sk-estimator-id-1\" type=\"checkbox\" checked><label for=\"sk-estimator-id-1\" class=\"sk-toggleable__label fitted sk-toggleable__label-arrow\"><div><div>LogisticRegression</div></div><div><a class=\"sk-estimator-doc-link fitted\" rel=\"noreferrer\" target=\"_blank\" href=\"https://scikit-learn.org/1.6/modules/generated/sklearn.linear_model.LogisticRegression.html\">?<span>Documentation for LogisticRegression</span></a><span class=\"sk-estimator-doc-link fitted\">i<span>Fitted</span></span></div></label><div class=\"sk-toggleable__content fitted\"><pre>LogisticRegression()</pre></div> </div></div></div></div>"
            ]
          },
          "metadata": {},
          "execution_count": 12
        }
      ]
    },
    {
      "cell_type": "markdown",
      "source": [
        "### Step 8: Make predictions"
      ],
      "metadata": {
        "id": "oj4AMMhWeYDk"
      }
    },
    {
      "cell_type": "code",
      "source": [
        "y_pred = model.predict(X_test) # Use the trained model to make predictions on the test data (X_test)\n",
        "\n",
        "# Check predictions vs. actual values:\n",
        "# Remember that 1 means Expensive and 0 means Affordable\n",
        "print(y_pred) # To view your predictions\n",
        "print(y_test) # To view the actual answers"
      ],
      "metadata": {
        "colab": {
          "base_uri": "https://localhost:8080/"
        },
        "id": "umLQbiKpgE0M",
        "outputId": "007910b1-ab80-439e-cce7-532195b86535"
      },
      "execution_count": null,
      "outputs": [
        {
          "output_type": "stream",
          "name": "stdout",
          "text": [
            "[1 0 1 1 1 1 1 1 0 1 1 0 1 1 0 1 1 1 1 1]\n",
            "83    1\n",
            "53    0\n",
            "70    1\n",
            "45    1\n",
            "44    1\n",
            "39    1\n",
            "22    1\n",
            "80    1\n",
            "10    0\n",
            "0     1\n",
            "18    1\n",
            "30    0\n",
            "73    1\n",
            "33    1\n",
            "90    0\n",
            "4     1\n",
            "76    1\n",
            "77    1\n",
            "12    1\n",
            "31    1\n",
            "Name: Price Category, dtype: int64\n"
          ]
        }
      ]
    },
    {
      "cell_type": "markdown",
      "source": [
        "### What happens in the \"backend\"?\n",
        "\n",
        "In Logistic Regression, the process is a bit different from Linear Regression because instead of predicting a continuous outcome (like price), you're predicting a **probability that an instance belongs to a particular class** (like \"rain\" or \"no rain\" or in our case, \"expensive\" or \"affordable\").\n",
        "\n",
        "The steps involve\n",
        "\n",
        "- calculating the linear combination of the features like in linear regression,\n",
        "- applying a formula or function called the sigmoid function,\n",
        "- and then using a threshold (usually 0.5) to make a prediction. More like, is the result of the sigmoid function greater than or less than the set threshold (usually 0.5)\n",
        "\n",
        "**Steps to Make a Prediction with Logistic Regression**\n",
        "\n",
        "1. **Linear Combination**: Compute the linear combination of the features using the coefficients and intercept.\n",
        "\n",
        "   $\n",
        "   z = \\text{intercept} + \\text{coef}_1 \\times \\text{feature}_1 + \\text{coef}_2 \\times \\text{feature}_2 + \\dots\n",
        "   $\n",
        "\n",
        "    or\n",
        "\n",
        "    `z = 𝜃0 + 𝜃1𝑥1 + 𝜃2𝑥2 + ...`\n",
        "    \n",
        "2. **Apply Sigmoid Function**: Use the sigmoid function to convert the linear combination $(z)$ into a probability.  \n",
        "\n",
        "   $\n",
        "   \\sigma(z) = \\frac{1}{1 + e^{-z}}\n",
        "   $\n",
        "\n",
        "\n",
        "3. **Thresholding**: If the resulting probability is greater than or equal to 0.5, predict the class as 1 (e.g., \"expensive\"), otherwise, predict 0 (e.g., \"affordable\")."
      ],
      "metadata": {
        "id": "zJkrzYo2idd-"
      }
    },
    {
      "cell_type": "code",
      "source": [
        "# Get the coefficients for each feature\n",
        "coefficients = model.coef_\n",
        "print(\"Coefficients:\", coefficients)\n",
        "\n",
        "# Get the intercept\n",
        "intercept = model.intercept_\n",
        "print(\"Intercept:\", intercept)"
      ],
      "metadata": {
        "colab": {
          "base_uri": "https://localhost:8080/"
        },
        "id": "_sCeoJ7miy1e",
        "outputId": "2189b215-7b1b-4aec-fc99-402919bd8cc3"
      },
      "execution_count": null,
      "outputs": [
        {
          "output_type": "stream",
          "name": "stdout",
          "text": [
            "Coefficients: [[0.00887793 1.48556028]]\n",
            "Intercept: [-20.531817]\n"
          ]
        }
      ]
    },
    {
      "cell_type": "markdown",
      "source": [
        "Use the formula with the gotten coefficients and intercept to make a prediction using a record in the test data"
      ],
      "metadata": {
        "id": "X9baG6BCT17m"
      }
    },
    {
      "cell_type": "code",
      "source": [
        "#### Step 1: Calculate the Linear Combination (z)\n",
        "\n",
        "# Given coefficients and intercept\n",
        "intercept = -20.53181245\n",
        "coef_house_size = 0.00887793\n",
        "coef_bedrooms = 1.48555931\n",
        "\n",
        "# Input features from the record\n",
        "house_size = 2529\n",
        "bedrooms = 4\n",
        "\n",
        "# Calculate the linear combination (z)\n",
        "z = intercept + (coef_house_size * house_size) + (coef_bedrooms * bedrooms)\n",
        "print(\"z: \", z)\n",
        "\n",
        "#### Step 2: Apply the Sigmoid Function to Get the Probability\n",
        "\n",
        "probability = 1 / (1 + np.exp(-z))\n",
        "print(\"probability: \", probability)\n",
        "\n",
        "#### Step 3: Make a Prediction Based on the Probability\n",
        "\n",
        "# Predict class based on a threshold of 0.5\n",
        "prediction = 1 if probability >= 0.5 else 0\n",
        "print(\"prediction: \", prediction)"
      ],
      "metadata": {
        "colab": {
          "base_uri": "https://localhost:8080/"
        },
        "id": "XrNnSezKTyYI",
        "outputId": "9c11b681-529a-4835-a038-e0f05f15f2ce"
      },
      "execution_count": null,
      "outputs": [
        {
          "output_type": "stream",
          "name": "stdout",
          "text": [
            "z:  7.862709759999997\n",
            "probability:  0.9996153183756904\n",
            "prediction:  1\n"
          ]
        }
      ]
    },
    {
      "cell_type": "code",
      "source": [
        "# Compare with y_pred\n",
        "print(\"Prediction:\", y_pred[0])\n",
        "\n",
        "probability = model.predict_proba(X_test.iloc[[0]])\n",
        "print(\"Probability:\",  probability)"
      ],
      "metadata": {
        "id": "QhM3IEhUjR5o",
        "colab": {
          "base_uri": "https://localhost:8080/"
        },
        "outputId": "9e534901-ffa9-485c-9dc2-5461b4048256"
      },
      "execution_count": null,
      "outputs": [
        {
          "output_type": "stream",
          "name": "stdout",
          "text": [
            "Prediction: 1\n",
            "Probability: [[3.84680156e-04 9.99615320e-01]]\n"
          ]
        }
      ]
    },
    {
      "cell_type": "markdown",
      "source": [
        "This means that:\n",
        "- The model predicts class 1 (\"Expensive\") with 99.96% probability (`9.99615320e-01`).\n",
        "- The probability of class 0 (\"Affordable\") is very low (`3.84680156e-04` or 0.038%)."
      ],
      "metadata": {
        "id": "rGw0SCEXWxfa"
      }
    },
    {
      "cell_type": "markdown",
      "source": [
        "### Step 9: Evaluate the model"
      ],
      "metadata": {
        "id": "fcmYpHNfjuj2"
      }
    },
    {
      "cell_type": "code",
      "source": [
        "# Calculate the accuracy of the model\n",
        "accuracy = accuracy_score(y_test, y_pred)\n",
        "# 'accuracy_score' compares the predicted labels 'y_pred' with the true labels 'y_test' and calculates the proportion of correctly classified instances.\n",
        "\n",
        "# Generate the confusion matrix for the model's predictions\n",
        "conf_matrix = confusion_matrix(y_test, y_pred)\n",
        "# 'confusion_matrix' provides a matrix showing the number of true positives, false positives, true negatives, and false negatives.\n",
        "\n",
        "# Create a detailed classification report\n",
        "class_report = classification_report(y_test, y_pred)\n",
        "# 'classification_report' generates a report including metrics like precision, recall, F1-score, and support for each class.\n",
        "\n",
        "print(\"Predictions:\", y_pred)\n",
        "print(\"Actual values:\", y_test.values)\n",
        "print(\"Accuracy:\", accuracy)\n",
        "print(\"Confusion Matrix:\\n\", conf_matrix)\n",
        "print(\"Classification Report:\\n\", class_report)"
      ],
      "metadata": {
        "id": "rKjRWrdSiPMT",
        "colab": {
          "base_uri": "https://localhost:8080/"
        },
        "outputId": "0f23dca7-a31d-4fc7-e7c6-b50631bc3278"
      },
      "execution_count": null,
      "outputs": [
        {
          "output_type": "stream",
          "name": "stdout",
          "text": [
            "Predictions: [1 0 1 1 1 1 1 1 0 1 1 0 1 1 0 1 1 1 1 1]\n",
            "Actual values: [1 0 1 1 1 1 1 1 0 1 1 0 1 1 0 1 1 1 1 1]\n",
            "Accuracy: 1.0\n",
            "Confusion Matrix:\n",
            " [[ 4  0]\n",
            " [ 0 16]]\n",
            "Classification Report:\n",
            "               precision    recall  f1-score   support\n",
            "\n",
            "           0       1.00      1.00      1.00         4\n",
            "           1       1.00      1.00      1.00        16\n",
            "\n",
            "    accuracy                           1.00        20\n",
            "   macro avg       1.00      1.00      1.00        20\n",
            "weighted avg       1.00      1.00      1.00        20\n",
            "\n"
          ]
        }
      ]
    },
    {
      "cell_type": "markdown",
      "source": [
        "**Confusion Matrix??**\n",
        "- **TP (4)**: Correctly predicted positives.\n",
        "- **FP (0)**: Incorrectly predicted positives.\n",
        "- **FN (0)**: Missed Positives (predicted as negative).\n",
        "- **TN (16)**: Correctly predicted negatives."
      ],
      "metadata": {
        "id": "OARplWSZYw79"
      }
    },
    {
      "cell_type": "markdown",
      "source": [
        "### What do these metrics mean?\n",
        "\n",
        "- **Accuracy** tries to answer the question: \"What proportion of my model's predictions were correct?\"\n",
        "    - **Optimal Value**: As close to 100% or 1.0 as possible.\n",
        "    - For instance, if your accuracy is `0.85`, it means the model correctly predicted the outcome 85% of the time.\n",
        "    - **Note** that in **imbalanced datasets**, a high accuracy might be **misleading**, so precision, recall, or F1 score might be more appropriate.\n",
        "    - For instance, a model predicts all the records passed through it as boys and gets an accuracy of 0.9 Meanwhile out of the 100 records, 10 are actually girls and the rest boys. It got just 10 wrong but those 10 were all the girls in the dataset.\n",
        "---\n",
        "- **Precision** tries to answer the question: \"Of the instances predicted as positive by my model, how many were actually positive? (Roughly, how many false positives are there?)\"\n",
        "    - **Optimal Value:** As close to 1.0 (or 100%) as possible.\n",
        "    - In our case, Precision is about being careful when you say something is affordable.\n",
        "    - For instance: If the model says 10 houses are affordable, and 8 of them are actually affordable, the precision is 8 out of 10 (which is 80%).\n",
        "---\n",
        "- **Recall** tries to answer the question: \"Of the actual positive instances in the data, how many did my model correctly identify as positive? (Roughly, how many false negatives are there?)\"\n",
        "    - **Optimal Value:** As close to 1.0 (or 100%) as possible.\n",
        "    - In our case, **Recall** is about being thorough in predicting all the affordable houses.\n",
        "    - For instance: If there are 10 affordable houses in the dataset, and the model correctly predicts 8 of them, the recall is 8 out of 10 (which is 80%).\n",
        "\n",
        "---\n",
        "- **F1 Score** tries to answer the question: \"What is the balance between precision and recall in my model's performance?\"\n",
        "    - **Optimal Value:** As close to 1.0 (or 100%) as possible.\n",
        "    - A higher F1 score indicates a good balance between precision and recall, meaning the model performs well in both avoiding false positives and false negatives.\n",
        "---"
      ],
      "metadata": {
        "id": "VEstXh5kY0FG"
      }
    },
    {
      "cell_type": "markdown",
      "source": [
        "### Predict the category of a new house"
      ],
      "metadata": {
        "id": "ZkgSDkJ5YIuV"
      }
    },
    {
      "cell_type": "code",
      "source": [
        "new_house = [[2500, 4]]  # Size: 2500 sq ft, 4 bedrooms\n",
        "columns = ['Size (sq ft)', 'Bedrooms']\n",
        "# Convert list to DataFrame\n",
        "new_house_df = pd.DataFrame(new_house, columns=columns)\n",
        "\n",
        "predicted_category = model.predict(new_house_df)\n",
        "category = \"Expensive\" if predicted_category[0] == 1 else \"Affordable\"\n",
        "print(f\"The new house is predicted to be: {category}\")"
      ],
      "metadata": {
        "colab": {
          "base_uri": "https://localhost:8080/"
        },
        "id": "EZc46GVtl1zf",
        "outputId": "996f1480-1a3f-4ded-840e-8ff5e05f8f1d"
      },
      "execution_count": null,
      "outputs": [
        {
          "output_type": "stream",
          "name": "stdout",
          "text": [
            "The new house is predicted to be: Expensive\n"
          ]
        }
      ]
    },
    {
      "cell_type": "markdown",
      "source": [
        "### Next Steps:\n",
        "You can try this code with real datasets ( e.g., [Chicago House Prices](https://www.kaggle.com/datasets/tawfikelmetwally/chicago-house-price) )\n"
      ],
      "metadata": {
        "id": "hPssAPfho7Js"
      }
    },
    {
      "cell_type": "code",
      "source": [],
      "metadata": {
        "id": "1ZJcfskbNg8Y"
      },
      "execution_count": null,
      "outputs": []
    },
    {
      "cell_type": "markdown",
      "source": [
        "---\n",
        "_**Your Dataness**_,  \n",
        "**`Obinna Oliseneku`** (_**Hybraid**_)  \n",
        "**[LinkedIn](https://www.linkedin.com/in/obinnao/)** | **[GitHub](https://github.com/hybraid6)**  "
      ],
      "metadata": {
        "id": "5kuqPxSlnI_J"
      }
    },
    {
      "cell_type": "markdown",
      "source": [],
      "metadata": {
        "id": "9iPGmLmPMnKF"
      }
    }
  ]
}